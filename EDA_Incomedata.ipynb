{
 "cells": [
  {
   "cell_type": "code",
   "execution_count": 1,
   "id": "991ff910",
   "metadata": {},
   "outputs": [],
   "source": [
    "#importing libraries\n",
    "import numpy as np\n",
    "import pandas as pd\n",
    "import sklearn\n",
    "from matplotlib import pyplot as plt\n",
    "import seaborn as sns"
   ]
  },
  {
   "cell_type": "code",
   "execution_count": 2,
   "id": "9c40db8c",
   "metadata": {},
   "outputs": [
    {
     "data": {
      "text/html": [
       "<div>\n",
       "<style scoped>\n",
       "    .dataframe tbody tr th:only-of-type {\n",
       "        vertical-align: middle;\n",
       "    }\n",
       "\n",
       "    .dataframe tbody tr th {\n",
       "        vertical-align: top;\n",
       "    }\n",
       "\n",
       "    .dataframe thead th {\n",
       "        text-align: right;\n",
       "    }\n",
       "</style>\n",
       "<table border=\"1\" class=\"dataframe\">\n",
       "  <thead>\n",
       "    <tr style=\"text-align: right;\">\n",
       "      <th></th>\n",
       "      <th>age</th>\n",
       "      <th>class_of_worker</th>\n",
       "      <th>industry_code</th>\n",
       "      <th>occupation_code</th>\n",
       "      <th>education</th>\n",
       "      <th>wage_per_hour</th>\n",
       "      <th>enrolled_in_edu_inst_lastwk</th>\n",
       "      <th>marital_status</th>\n",
       "      <th>major_industry_code</th>\n",
       "      <th>major_occupation_code</th>\n",
       "      <th>...</th>\n",
       "      <th>country_father</th>\n",
       "      <th>country_mother</th>\n",
       "      <th>country_self</th>\n",
       "      <th>citizenship</th>\n",
       "      <th>business_or_self_employed</th>\n",
       "      <th>fill_questionnaire_veteran_admin</th>\n",
       "      <th>veterans_benefits</th>\n",
       "      <th>weeks_worked_in_year</th>\n",
       "      <th>year</th>\n",
       "      <th>income_level</th>\n",
       "    </tr>\n",
       "  </thead>\n",
       "  <tbody>\n",
       "    <tr>\n",
       "      <th>0</th>\n",
       "      <td>73</td>\n",
       "      <td>Not in universe</td>\n",
       "      <td>0</td>\n",
       "      <td>0</td>\n",
       "      <td>High school graduate</td>\n",
       "      <td>0</td>\n",
       "      <td>Not in universe</td>\n",
       "      <td>Widowed</td>\n",
       "      <td>Not in universe or children</td>\n",
       "      <td>Not in universe</td>\n",
       "      <td>...</td>\n",
       "      <td>United-States</td>\n",
       "      <td>United-States</td>\n",
       "      <td>United-States</td>\n",
       "      <td>Native- Born in the United States</td>\n",
       "      <td>0</td>\n",
       "      <td>Not in universe</td>\n",
       "      <td>2</td>\n",
       "      <td>0</td>\n",
       "      <td>95</td>\n",
       "      <td>-50000</td>\n",
       "    </tr>\n",
       "    <tr>\n",
       "      <th>1</th>\n",
       "      <td>58</td>\n",
       "      <td>Self-employed-not incorporated</td>\n",
       "      <td>4</td>\n",
       "      <td>34</td>\n",
       "      <td>Some college but no degree</td>\n",
       "      <td>0</td>\n",
       "      <td>Not in universe</td>\n",
       "      <td>Divorced</td>\n",
       "      <td>Construction</td>\n",
       "      <td>Precision production craft &amp; repair</td>\n",
       "      <td>...</td>\n",
       "      <td>United-States</td>\n",
       "      <td>United-States</td>\n",
       "      <td>United-States</td>\n",
       "      <td>Native- Born in the United States</td>\n",
       "      <td>0</td>\n",
       "      <td>Not in universe</td>\n",
       "      <td>2</td>\n",
       "      <td>52</td>\n",
       "      <td>94</td>\n",
       "      <td>-50000</td>\n",
       "    </tr>\n",
       "    <tr>\n",
       "      <th>2</th>\n",
       "      <td>18</td>\n",
       "      <td>Not in universe</td>\n",
       "      <td>0</td>\n",
       "      <td>0</td>\n",
       "      <td>10th grade</td>\n",
       "      <td>0</td>\n",
       "      <td>High school</td>\n",
       "      <td>Never married</td>\n",
       "      <td>Not in universe or children</td>\n",
       "      <td>Not in universe</td>\n",
       "      <td>...</td>\n",
       "      <td>Vietnam</td>\n",
       "      <td>Vietnam</td>\n",
       "      <td>Vietnam</td>\n",
       "      <td>Foreign born- Not a citizen of U S</td>\n",
       "      <td>0</td>\n",
       "      <td>Not in universe</td>\n",
       "      <td>2</td>\n",
       "      <td>0</td>\n",
       "      <td>95</td>\n",
       "      <td>-50000</td>\n",
       "    </tr>\n",
       "    <tr>\n",
       "      <th>3</th>\n",
       "      <td>9</td>\n",
       "      <td>Not in universe</td>\n",
       "      <td>0</td>\n",
       "      <td>0</td>\n",
       "      <td>Children</td>\n",
       "      <td>0</td>\n",
       "      <td>Not in universe</td>\n",
       "      <td>Never married</td>\n",
       "      <td>Not in universe or children</td>\n",
       "      <td>Not in universe</td>\n",
       "      <td>...</td>\n",
       "      <td>United-States</td>\n",
       "      <td>United-States</td>\n",
       "      <td>United-States</td>\n",
       "      <td>Native- Born in the United States</td>\n",
       "      <td>0</td>\n",
       "      <td>Not in universe</td>\n",
       "      <td>0</td>\n",
       "      <td>0</td>\n",
       "      <td>94</td>\n",
       "      <td>-50000</td>\n",
       "    </tr>\n",
       "    <tr>\n",
       "      <th>4</th>\n",
       "      <td>10</td>\n",
       "      <td>Not in universe</td>\n",
       "      <td>0</td>\n",
       "      <td>0</td>\n",
       "      <td>Children</td>\n",
       "      <td>0</td>\n",
       "      <td>Not in universe</td>\n",
       "      <td>Never married</td>\n",
       "      <td>Not in universe or children</td>\n",
       "      <td>Not in universe</td>\n",
       "      <td>...</td>\n",
       "      <td>United-States</td>\n",
       "      <td>United-States</td>\n",
       "      <td>United-States</td>\n",
       "      <td>Native- Born in the United States</td>\n",
       "      <td>0</td>\n",
       "      <td>Not in universe</td>\n",
       "      <td>0</td>\n",
       "      <td>0</td>\n",
       "      <td>94</td>\n",
       "      <td>-50000</td>\n",
       "    </tr>\n",
       "  </tbody>\n",
       "</table>\n",
       "<p>5 rows × 41 columns</p>\n",
       "</div>"
      ],
      "text/plain": [
       "   age                 class_of_worker  industry_code  occupation_code  \\\n",
       "0   73                 Not in universe              0                0   \n",
       "1   58  Self-employed-not incorporated              4               34   \n",
       "2   18                 Not in universe              0                0   \n",
       "3    9                 Not in universe              0                0   \n",
       "4   10                 Not in universe              0                0   \n",
       "\n",
       "                    education  wage_per_hour enrolled_in_edu_inst_lastwk  \\\n",
       "0        High school graduate              0             Not in universe   \n",
       "1  Some college but no degree              0             Not in universe   \n",
       "2                  10th grade              0                 High school   \n",
       "3                    Children              0             Not in universe   \n",
       "4                    Children              0             Not in universe   \n",
       "\n",
       "  marital_status          major_industry_code  \\\n",
       "0        Widowed  Not in universe or children   \n",
       "1       Divorced                 Construction   \n",
       "2  Never married  Not in universe or children   \n",
       "3  Never married  Not in universe or children   \n",
       "4  Never married  Not in universe or children   \n",
       "\n",
       "                 major_occupation_code  ... country_father country_mother  \\\n",
       "0                      Not in universe  ...  United-States  United-States   \n",
       "1  Precision production craft & repair  ...  United-States  United-States   \n",
       "2                      Not in universe  ...        Vietnam        Vietnam   \n",
       "3                      Not in universe  ...  United-States  United-States   \n",
       "4                      Not in universe  ...  United-States  United-States   \n",
       "\n",
       "    country_self                         citizenship  \\\n",
       "0  United-States   Native- Born in the United States   \n",
       "1  United-States   Native- Born in the United States   \n",
       "2        Vietnam  Foreign born- Not a citizen of U S   \n",
       "3  United-States   Native- Born in the United States   \n",
       "4  United-States   Native- Born in the United States   \n",
       "\n",
       "  business_or_self_employed fill_questionnaire_veteran_admin  \\\n",
       "0                         0                  Not in universe   \n",
       "1                         0                  Not in universe   \n",
       "2                         0                  Not in universe   \n",
       "3                         0                  Not in universe   \n",
       "4                         0                  Not in universe   \n",
       "\n",
       "   veterans_benefits  weeks_worked_in_year  year income_level  \n",
       "0                  2                     0    95       -50000  \n",
       "1                  2                    52    94       -50000  \n",
       "2                  2                     0    95       -50000  \n",
       "3                  0                     0    94       -50000  \n",
       "4                  0                     0    94       -50000  \n",
       "\n",
       "[5 rows x 41 columns]"
      ]
     },
     "execution_count": 2,
     "metadata": {},
     "output_type": "execute_result"
    }
   ],
   "source": [
    "income= pd.read_csv('train.csv')\n",
    "income.head()"
   ]
  },
  {
   "cell_type": "code",
   "execution_count": 3,
   "id": "4bb0f154",
   "metadata": {},
   "outputs": [
    {
     "data": {
      "text/plain": [
       "(199523, 41)"
      ]
     },
     "execution_count": 3,
     "metadata": {},
     "output_type": "execute_result"
    }
   ],
   "source": [
    "income.shape"
   ]
  },
  {
   "cell_type": "code",
   "execution_count": 4,
   "id": "0764d6b9",
   "metadata": {},
   "outputs": [
    {
     "data": {
      "text/plain": [
       "array([-50000,  50000], dtype=int64)"
      ]
     },
     "execution_count": 4,
     "metadata": {},
     "output_type": "execute_result"
    }
   ],
   "source": [
    "income.income_level.unique()"
   ]
  },
  {
   "cell_type": "code",
   "execution_count": 6,
   "id": "79fe5fe8",
   "metadata": {},
   "outputs": [
    {
     "data": {
      "text/plain": [
       "0    187141\n",
       "1     12382\n",
       "Name: income_level, dtype: int64"
      ]
     },
     "execution_count": 6,
     "metadata": {},
     "output_type": "execute_result"
    }
   ],
   "source": [
    "from sklearn.preprocessing import LabelEncoder\n",
    "le=LabelEncoder()\n",
    "income.income_level= le.fit_transform(income['income_level'])\n",
    "income.income_level.value_counts()"
   ]
  },
  {
   "cell_type": "code",
   "execution_count": 10,
   "id": "64ae89e4",
   "metadata": {},
   "outputs": [
    {
     "name": "stdout",
     "output_type": "stream",
     "text": [
      "class1:  93.79419916500854\n"
     ]
    }
   ],
   "source": [
    "class1= len(income[income['income_level']==0])/len(income['income_level'])*100\n",
    "print('class1: ',class1)\n"
   ]
  },
  {
   "cell_type": "code",
   "execution_count": 11,
   "id": "60bd3aff",
   "metadata": {},
   "outputs": [
    {
     "name": "stdout",
     "output_type": "stream",
     "text": [
      "class2:  6.205800834991455\n"
     ]
    }
   ],
   "source": [
    "class2= len(income[income['income_level']==1])/len(income['income_level'])*100\n",
    "print('class2: ', class2)"
   ]
  },
  {
   "cell_type": "code",
   "execution_count": 13,
   "id": "b2b94baa",
   "metadata": {},
   "outputs": [
    {
     "name": "stdout",
     "output_type": "stream",
     "text": [
      "<class 'pandas.core.frame.DataFrame'>\n",
      "RangeIndex: 199523 entries, 0 to 199522\n",
      "Data columns (total 41 columns):\n",
      " #   Column                            Non-Null Count   Dtype \n",
      "---  ------                            --------------   ----- \n",
      " 0   age                               199523 non-null  int64 \n",
      " 1   class_of_worker                   199523 non-null  object\n",
      " 2   industry_code                     199523 non-null  int64 \n",
      " 3   occupation_code                   199523 non-null  int64 \n",
      " 4   education                         199523 non-null  object\n",
      " 5   wage_per_hour                     199523 non-null  int64 \n",
      " 6   enrolled_in_edu_inst_lastwk       199523 non-null  object\n",
      " 7   marital_status                    199523 non-null  object\n",
      " 8   major_industry_code               199523 non-null  object\n",
      " 9   major_occupation_code             199523 non-null  object\n",
      " 10  race                              199523 non-null  object\n",
      " 11  hispanic_origin                   198649 non-null  object\n",
      " 12  sex                               199523 non-null  object\n",
      " 13  member_of_labor_union             199523 non-null  object\n",
      " 14  reason_for_unemployment           199523 non-null  object\n",
      " 15  full_parttime_employment_stat     199523 non-null  object\n",
      " 16  capital_gains                     199523 non-null  int64 \n",
      " 17  capital_losses                    199523 non-null  int64 \n",
      " 18  dividend_from_Stocks              199523 non-null  int64 \n",
      " 19  tax_filer_status                  199523 non-null  object\n",
      " 20  region_of_previous_residence      199523 non-null  object\n",
      " 21  state_of_previous_residence       198815 non-null  object\n",
      " 22  d_household_family_stat           199523 non-null  object\n",
      " 23  d_household_summary               199523 non-null  object\n",
      " 24  migration_msa                     99827 non-null   object\n",
      " 25  migration_reg                     99827 non-null   object\n",
      " 26  migration_within_reg              99827 non-null   object\n",
      " 27  live_1_year_ago                   199523 non-null  object\n",
      " 28  migration_sunbelt                 99827 non-null   object\n",
      " 29  num_person_Worked_employer        199523 non-null  int64 \n",
      " 30  family_members_under_18           199523 non-null  object\n",
      " 31  country_father                    192810 non-null  object\n",
      " 32  country_mother                    193404 non-null  object\n",
      " 33  country_self                      196130 non-null  object\n",
      " 34  citizenship                       199523 non-null  object\n",
      " 35  business_or_self_employed         199523 non-null  int64 \n",
      " 36  fill_questionnaire_veteran_admin  199523 non-null  object\n",
      " 37  veterans_benefits                 199523 non-null  int64 \n",
      " 38  weeks_worked_in_year              199523 non-null  int64 \n",
      " 39  year                              199523 non-null  int64 \n",
      " 40  income_level                      199523 non-null  int64 \n",
      "dtypes: int64(13), object(28)\n",
      "memory usage: 62.4+ MB\n"
     ]
    }
   ],
   "source": [
    "income.info()"
   ]
  },
  {
   "cell_type": "code",
   "execution_count": 14,
   "id": "67b45ded",
   "metadata": {},
   "outputs": [
    {
     "data": {
      "text/plain": [
       "age                                     0\n",
       "class_of_worker                         0\n",
       "industry_code                           0\n",
       "occupation_code                         0\n",
       "education                               0\n",
       "wage_per_hour                           0\n",
       "enrolled_in_edu_inst_lastwk             0\n",
       "marital_status                          0\n",
       "major_industry_code                     0\n",
       "major_occupation_code                   0\n",
       "race                                    0\n",
       "hispanic_origin                       874\n",
       "sex                                     0\n",
       "member_of_labor_union                   0\n",
       "reason_for_unemployment                 0\n",
       "full_parttime_employment_stat           0\n",
       "capital_gains                           0\n",
       "capital_losses                          0\n",
       "dividend_from_Stocks                    0\n",
       "tax_filer_status                        0\n",
       "region_of_previous_residence            0\n",
       "state_of_previous_residence           708\n",
       "d_household_family_stat                 0\n",
       "d_household_summary                     0\n",
       "migration_msa                       99696\n",
       "migration_reg                       99696\n",
       "migration_within_reg                99696\n",
       "live_1_year_ago                         0\n",
       "migration_sunbelt                   99696\n",
       "num_person_Worked_employer              0\n",
       "family_members_under_18                 0\n",
       "country_father                       6713\n",
       "country_mother                       6119\n",
       "country_self                         3393\n",
       "citizenship                             0\n",
       "business_or_self_employed               0\n",
       "fill_questionnaire_veteran_admin        0\n",
       "veterans_benefits                       0\n",
       "weeks_worked_in_year                    0\n",
       "year                                    0\n",
       "income_level                            0\n",
       "dtype: int64"
      ]
     },
     "execution_count": 14,
     "metadata": {},
     "output_type": "execute_result"
    }
   ],
   "source": [
    "income.isnull().sum()"
   ]
  },
  {
   "cell_type": "code",
   "execution_count": 21,
   "id": "5d62340c",
   "metadata": {},
   "outputs": [
    {
     "data": {
      "text/plain": [
       "array([[<AxesSubplot:title={'center':'age'}>,\n",
       "        <AxesSubplot:title={'center':'industry_code'}>,\n",
       "        <AxesSubplot:title={'center':'occupation_code'}>,\n",
       "        <AxesSubplot:title={'center':'wage_per_hour'}>],\n",
       "       [<AxesSubplot:title={'center':'capital_gains'}>,\n",
       "        <AxesSubplot:title={'center':'capital_losses'}>,\n",
       "        <AxesSubplot:title={'center':'dividend_from_Stocks'}>,\n",
       "        <AxesSubplot:title={'center':'num_person_Worked_employer'}>],\n",
       "       [<AxesSubplot:title={'center':'business_or_self_employed'}>,\n",
       "        <AxesSubplot:title={'center':'veterans_benefits'}>,\n",
       "        <AxesSubplot:title={'center':'weeks_worked_in_year'}>,\n",
       "        <AxesSubplot:title={'center':'year'}>],\n",
       "       [<AxesSubplot:title={'center':'income_level'}>, <AxesSubplot:>,\n",
       "        <AxesSubplot:>, <AxesSubplot:>]], dtype=object)"
      ]
     },
     "execution_count": 21,
     "metadata": {},
     "output_type": "execute_result"
    },
    {
     "data": {
      "image/png": "[encoded data removed]",
      "text/plain": [
       "<Figure size 1440x720 with 16 Axes>"
      ]
     },
     "metadata": {
      "needs_background": "light"
     },
     "output_type": "display_data"
    }
   ],
   "source": [
    "income.hist(bins=50,figsize=(20,10))"
   ]
  },
  {
   "cell_type": "code",
   "execution_count": 23,
   "id": "b0eb4aba",
   "metadata": {},
   "outputs": [
    {
     "data": {
      "text/plain": [
       "<seaborn.axisgrid.PairGrid at 0x184d5c7a250>"
      ]
     },
     "execution_count": 23,
     "metadata": {},
     "output_type": "execute_result"
    },
    {
     "data": {
      "image/png": "[encoded data removed]",
      "text/plain": [
       "<Figure size 180x180 with 1 Axes>"
      ]
     },
     "metadata": {
      "needs_background": "light"
     },
     "output_type": "display_data"
    }
   ],
   "source": [
    "#plt.scatter(income['age'],income['income_level'])\n",
    "sns.pairplot(data=income,y_vars=['income_level'],\n",
    "                  x_vars=['age'])"
   ]
  },
  {
   "cell_type": "code",
   "execution_count": 30,
   "id": "e4043ba1",
   "metadata": {},
   "outputs": [
    {
     "data": {
      "text/plain": [
       "<seaborn.axisgrid.PairGrid at 0x184889b5a60>"
      ]
     },
     "execution_count": 30,
     "metadata": {},
     "output_type": "execute_result"
    },
    {
     "data": {
      "image/png": "[encoded data removed]",
      "text/plain": [
       "<Figure size 360x360 with 6 Axes>"
      ]
     },
     "metadata": {
      "needs_background": "light"
     },
     "output_type": "display_data"
    }
   ],
   "source": [
    "sns.pairplot(data=income[['age','wage_per_hour']],palette='RdBu')"
   ]
  },
  {
   "cell_type": "code",
   "execution_count": 1,
   "id": "0349be46",
   "metadata": {},
   "outputs": [],
   "source": [
    "plt.bar(income['class_of_worker'],income['income_level'])"
   ]
  },
  {
   "cell_type": "code",
   "execution_count": 32,
   "id": "42195172",
   "metadata": {},
   "outputs": [
    {
     "data": {
      "text/plain": [
       "<AxesSubplot:>"
      ]
     },
     "execution_count": 32,
     "metadata": {},
     "output_type": "execute_result"
    },
    {
     "data": {
      "image/png": "[encoded data removed]",
      "text/plain": [
       "<Figure size 1440x2160 with 2 Axes>"
      ]
     },
     "metadata": {
      "needs_background": "light"
     },
     "output_type": "display_data"
    }
   ],
   "source": [
    "income.corr()\n",
    "\n",
    "plt.figure(figsize=(20,30))\n",
    "\n",
    "sns.heatmap(income.corr(),annot=True, cmap='Blues')"
   ]
  },
  {
   "cell_type": "code",
   "execution_count": 34,
   "id": "0d1f63d7",
   "metadata": {},
   "outputs": [],
   "source": [
    "income=income.drop('weeks_worked_in_year',axis=1)"
   ]
  },
  {
   "cell_type": "code",
   "execution_count": 35,
   "id": "b75ecadf",
   "metadata": {},
   "outputs": [],
   "source": [
    "col=['hispanic_origin','state_of_previous_residence','migration_msa','migration_reg','migration_within_reg','migration_sunbelt',\n",
    "    'country_father','country_mother','country_self']"
   ]
  },
  {
   "cell_type": "code",
   "execution_count": 36,
   "id": "e0641097",
   "metadata": {},
   "outputs": [],
   "source": [
    "income=income.drop(col,axis=1)"
   ]
  },
  {
   "cell_type": "code",
   "execution_count": 37,
   "id": "892fd9dc",
   "metadata": {},
   "outputs": [
    {
     "data": {
      "text/plain": [
       "(199523, 31)"
      ]
     },
     "execution_count": 37,
     "metadata": {},
     "output_type": "execute_result"
    }
   ],
   "source": [
    "income.shape"
   ]
  },
  {
   "cell_type": "code",
   "execution_count": 40,
   "id": "ae7b0ae6",
   "metadata": {},
   "outputs": [
    {
     "data": {
      "text/plain": [
       "age                                 0\n",
       "class_of_worker                     0\n",
       "industry_code                       0\n",
       "occupation_code                     0\n",
       "education                           0\n",
       "wage_per_hour                       0\n",
       "enrolled_in_edu_inst_lastwk         0\n",
       "marital_status                      0\n",
       "major_industry_code                 0\n",
       "major_occupation_code               0\n",
       "race                                0\n",
       "sex                                 0\n",
       "member_of_labor_union               0\n",
       "reason_for_unemployment             0\n",
       "full_parttime_employment_stat       0\n",
       "capital_gains                       0\n",
       "capital_losses                      0\n",
       "dividend_from_Stocks                0\n",
       "tax_filer_status                    0\n",
       "region_of_previous_residence        0\n",
       "d_household_family_stat             0\n",
       "d_household_summary                 0\n",
       "live_1_year_ago                     0\n",
       "num_person_Worked_employer          0\n",
       "family_members_under_18             0\n",
       "citizenship                         0\n",
       "business_or_self_employed           0\n",
       "fill_questionnaire_veteran_admin    0\n",
       "veterans_benefits                   0\n",
       "year                                0\n",
       "income_level                        0\n",
       "dtype: int64"
      ]
     },
     "execution_count": 40,
     "metadata": {},
     "output_type": "execute_result"
    }
   ],
   "source": [
    "income.isnull().sum()"
   ]
  },
  {
   "cell_type": "code",
   "execution_count": 55,
   "id": "e6b135d8",
   "metadata": {},
   "outputs": [
    {
     "data": {
      "text/plain": [
       "34    3489\n",
       "35    3450\n",
       "36    3353\n",
       "31    3351\n",
       "33    3340\n",
       "      ... \n",
       "85     423\n",
       "86     348\n",
       "87     301\n",
       "88     241\n",
       "89     195\n",
       "Name: age, Length: 91, dtype: int64"
      ]
     },
     "execution_count": 55,
     "metadata": {},
     "output_type": "execute_result"
    }
   ],
   "source": [
    "income.age.unique()\n",
    "income.age.value_counts()"
   ]
  },
  {
   "cell_type": "code",
   "execution_count": 57,
   "id": "234e1367",
   "metadata": {},
   "outputs": [],
   "source": [
    "bins = (0, 30, 60, 90)\n",
    "labels = ['young','adult','old']\n",
    "income['age'] = pd.cut(x = income['age'], bins = bins, labels = labels)"
   ]
  },
  {
   "cell_type": "code",
   "execution_count": 58,
   "id": "3325c2cc",
   "metadata": {},
   "outputs": [
    {
     "data": {
      "text/html": [
       "<div>\n",
       "<style scoped>\n",
       "    .dataframe tbody tr th:only-of-type {\n",
       "        vertical-align: middle;\n",
       "    }\n",
       "\n",
       "    .dataframe tbody tr th {\n",
       "        vertical-align: top;\n",
       "    }\n",
       "\n",
       "    .dataframe thead th {\n",
       "        text-align: right;\n",
       "    }\n",
       "</style>\n",
       "<table border=\"1\" class=\"dataframe\">\n",
       "  <thead>\n",
       "    <tr style=\"text-align: right;\">\n",
       "      <th></th>\n",
       "      <th>age</th>\n",
       "      <th>class_of_worker</th>\n",
       "      <th>industry_code</th>\n",
       "      <th>occupation_code</th>\n",
       "      <th>education</th>\n",
       "      <th>wage_per_hour</th>\n",
       "      <th>enrolled_in_edu_inst_lastwk</th>\n",
       "      <th>marital_status</th>\n",
       "      <th>major_industry_code</th>\n",
       "      <th>major_occupation_code</th>\n",
       "      <th>...</th>\n",
       "      <th>d_household_summary</th>\n",
       "      <th>live_1_year_ago</th>\n",
       "      <th>num_person_Worked_employer</th>\n",
       "      <th>family_members_under_18</th>\n",
       "      <th>citizenship</th>\n",
       "      <th>business_or_self_employed</th>\n",
       "      <th>fill_questionnaire_veteran_admin</th>\n",
       "      <th>veterans_benefits</th>\n",
       "      <th>year</th>\n",
       "      <th>income_level</th>\n",
       "    </tr>\n",
       "  </thead>\n",
       "  <tbody>\n",
       "    <tr>\n",
       "      <th>0</th>\n",
       "      <td>old</td>\n",
       "      <td>Not in universe</td>\n",
       "      <td>0</td>\n",
       "      <td>0</td>\n",
       "      <td>High school graduate</td>\n",
       "      <td>0</td>\n",
       "      <td>Not in universe</td>\n",
       "      <td>Widowed</td>\n",
       "      <td>Not in universe or children</td>\n",
       "      <td>Not in universe</td>\n",
       "      <td>...</td>\n",
       "      <td>Other relative of householder</td>\n",
       "      <td>Not in universe under 1 year old</td>\n",
       "      <td>0</td>\n",
       "      <td>Not in universe</td>\n",
       "      <td>Native- Born in the United States</td>\n",
       "      <td>0</td>\n",
       "      <td>Not in universe</td>\n",
       "      <td>2</td>\n",
       "      <td>95</td>\n",
       "      <td>0</td>\n",
       "    </tr>\n",
       "    <tr>\n",
       "      <th>1</th>\n",
       "      <td>adult</td>\n",
       "      <td>Self-employed-not incorporated</td>\n",
       "      <td>4</td>\n",
       "      <td>34</td>\n",
       "      <td>Some college but no degree</td>\n",
       "      <td>0</td>\n",
       "      <td>Not in universe</td>\n",
       "      <td>Divorced</td>\n",
       "      <td>Construction</td>\n",
       "      <td>Precision production craft &amp; repair</td>\n",
       "      <td>...</td>\n",
       "      <td>Householder</td>\n",
       "      <td>No</td>\n",
       "      <td>1</td>\n",
       "      <td>Not in universe</td>\n",
       "      <td>Native- Born in the United States</td>\n",
       "      <td>0</td>\n",
       "      <td>Not in universe</td>\n",
       "      <td>2</td>\n",
       "      <td>94</td>\n",
       "      <td>0</td>\n",
       "    </tr>\n",
       "    <tr>\n",
       "      <th>2</th>\n",
       "      <td>young</td>\n",
       "      <td>Not in universe</td>\n",
       "      <td>0</td>\n",
       "      <td>0</td>\n",
       "      <td>10th grade</td>\n",
       "      <td>0</td>\n",
       "      <td>High school</td>\n",
       "      <td>Never married</td>\n",
       "      <td>Not in universe or children</td>\n",
       "      <td>Not in universe</td>\n",
       "      <td>...</td>\n",
       "      <td>Child 18 or older</td>\n",
       "      <td>Not in universe under 1 year old</td>\n",
       "      <td>0</td>\n",
       "      <td>Not in universe</td>\n",
       "      <td>Foreign born- Not a citizen of U S</td>\n",
       "      <td>0</td>\n",
       "      <td>Not in universe</td>\n",
       "      <td>2</td>\n",
       "      <td>95</td>\n",
       "      <td>0</td>\n",
       "    </tr>\n",
       "    <tr>\n",
       "      <th>3</th>\n",
       "      <td>young</td>\n",
       "      <td>Not in universe</td>\n",
       "      <td>0</td>\n",
       "      <td>0</td>\n",
       "      <td>Children</td>\n",
       "      <td>0</td>\n",
       "      <td>Not in universe</td>\n",
       "      <td>Never married</td>\n",
       "      <td>Not in universe or children</td>\n",
       "      <td>Not in universe</td>\n",
       "      <td>...</td>\n",
       "      <td>Child under 18 never married</td>\n",
       "      <td>Yes</td>\n",
       "      <td>0</td>\n",
       "      <td>Both parents present</td>\n",
       "      <td>Native- Born in the United States</td>\n",
       "      <td>0</td>\n",
       "      <td>Not in universe</td>\n",
       "      <td>0</td>\n",
       "      <td>94</td>\n",
       "      <td>0</td>\n",
       "    </tr>\n",
       "    <tr>\n",
       "      <th>4</th>\n",
       "      <td>young</td>\n",
       "      <td>Not in universe</td>\n",
       "      <td>0</td>\n",
       "      <td>0</td>\n",
       "      <td>Children</td>\n",
       "      <td>0</td>\n",
       "      <td>Not in universe</td>\n",
       "      <td>Never married</td>\n",
       "      <td>Not in universe or children</td>\n",
       "      <td>Not in universe</td>\n",
       "      <td>...</td>\n",
       "      <td>Child under 18 never married</td>\n",
       "      <td>Yes</td>\n",
       "      <td>0</td>\n",
       "      <td>Both parents present</td>\n",
       "      <td>Native- Born in the United States</td>\n",
       "      <td>0</td>\n",
       "      <td>Not in universe</td>\n",
       "      <td>0</td>\n",
       "      <td>94</td>\n",
       "      <td>0</td>\n",
       "    </tr>\n",
       "  </tbody>\n",
       "</table>\n",
       "<p>5 rows × 31 columns</p>\n",
       "</div>"
      ],
      "text/plain": [
       "     age                 class_of_worker  industry_code  occupation_code  \\\n",
       "0    old                 Not in universe              0                0   \n",
       "1  adult  Self-employed-not incorporated              4               34   \n",
       "2  young                 Not in universe              0                0   \n",
       "3  young                 Not in universe              0                0   \n",
       "4  young                 Not in universe              0                0   \n",
       "\n",
       "                    education  wage_per_hour enrolled_in_edu_inst_lastwk  \\\n",
       "0        High school graduate              0             Not in universe   \n",
       "1  Some college but no degree              0             Not in universe   \n",
       "2                  10th grade              0                 High school   \n",
       "3                    Children              0             Not in universe   \n",
       "4                    Children              0             Not in universe   \n",
       "\n",
       "  marital_status          major_industry_code  \\\n",
       "0        Widowed  Not in universe or children   \n",
       "1       Divorced                 Construction   \n",
       "2  Never married  Not in universe or children   \n",
       "3  Never married  Not in universe or children   \n",
       "4  Never married  Not in universe or children   \n",
       "\n",
       "                 major_occupation_code  ...            d_household_summary  \\\n",
       "0                      Not in universe  ...  Other relative of householder   \n",
       "1  Precision production craft & repair  ...                    Householder   \n",
       "2                      Not in universe  ...              Child 18 or older   \n",
       "3                      Not in universe  ...   Child under 18 never married   \n",
       "4                      Not in universe  ...   Child under 18 never married   \n",
       "\n",
       "                    live_1_year_ago num_person_Worked_employer  \\\n",
       "0  Not in universe under 1 year old                          0   \n",
       "1                                No                          1   \n",
       "2  Not in universe under 1 year old                          0   \n",
       "3                               Yes                          0   \n",
       "4                               Yes                          0   \n",
       "\n",
       "  family_members_under_18                         citizenship  \\\n",
       "0         Not in universe   Native- Born in the United States   \n",
       "1         Not in universe   Native- Born in the United States   \n",
       "2         Not in universe  Foreign born- Not a citizen of U S   \n",
       "3    Both parents present   Native- Born in the United States   \n",
       "4    Both parents present   Native- Born in the United States   \n",
       "\n",
       "   business_or_self_employed  fill_questionnaire_veteran_admin  \\\n",
       "0                          0                   Not in universe   \n",
       "1                          0                   Not in universe   \n",
       "2                          0                   Not in universe   \n",
       "3                          0                   Not in universe   \n",
       "4                          0                   Not in universe   \n",
       "\n",
       "   veterans_benefits year income_level  \n",
       "0                  2   95            0  \n",
       "1                  2   94            0  \n",
       "2                  2   95            0  \n",
       "3                  0   94            0  \n",
       "4                  0   94            0  \n",
       "\n",
       "[5 rows x 31 columns]"
      ]
     },
     "execution_count": 58,
     "metadata": {},
     "output_type": "execute_result"
    }
   ],
   "source": [
    "income.head()"
   ]
  },
  {
   "cell_type": "code",
   "execution_count": 263,
   "id": "612a0383",
   "metadata": {},
   "outputs": [
    {
     "data": {
      "text/html": [
       "<div>\n",
       "<style scoped>\n",
       "    .dataframe tbody tr th:only-of-type {\n",
       "        vertical-align: middle;\n",
       "    }\n",
       "\n",
       "    .dataframe tbody tr th {\n",
       "        vertical-align: top;\n",
       "    }\n",
       "\n",
       "    .dataframe thead th {\n",
       "        text-align: right;\n",
       "    }\n",
       "</style>\n",
       "<table border=\"1\" class=\"dataframe\">\n",
       "  <thead>\n",
       "    <tr style=\"text-align: right;\">\n",
       "      <th></th>\n",
       "      <th>age</th>\n",
       "      <th>class_of_worker</th>\n",
       "      <th>industry_code</th>\n",
       "      <th>occupation_code</th>\n",
       "      <th>education</th>\n",
       "      <th>wage_per_hour</th>\n",
       "      <th>enrolled_in_edu_inst_lastwk</th>\n",
       "      <th>marital_status</th>\n",
       "      <th>major_industry_code</th>\n",
       "      <th>major_occupation_code</th>\n",
       "      <th>...</th>\n",
       "      <th>country_father</th>\n",
       "      <th>country_mother</th>\n",
       "      <th>country_self</th>\n",
       "      <th>citizenship</th>\n",
       "      <th>business_or_self_employed</th>\n",
       "      <th>fill_questionnaire_veteran_admin</th>\n",
       "      <th>veterans_benefits</th>\n",
       "      <th>weeks_worked_in_year</th>\n",
       "      <th>year</th>\n",
       "      <th>income_level</th>\n",
       "    </tr>\n",
       "  </thead>\n",
       "  <tbody>\n",
       "    <tr>\n",
       "      <th>0</th>\n",
       "      <td>73</td>\n",
       "      <td>Not in universe</td>\n",
       "      <td>0</td>\n",
       "      <td>0</td>\n",
       "      <td>High school graduate</td>\n",
       "      <td>0</td>\n",
       "      <td>Not in universe</td>\n",
       "      <td>Widowed</td>\n",
       "      <td>Not in universe or children</td>\n",
       "      <td>Not in universe</td>\n",
       "      <td>...</td>\n",
       "      <td>United-States</td>\n",
       "      <td>United-States</td>\n",
       "      <td>United-States</td>\n",
       "      <td>Native- Born in the United States</td>\n",
       "      <td>0</td>\n",
       "      <td>Not in universe</td>\n",
       "      <td>2</td>\n",
       "      <td>0</td>\n",
       "      <td>95</td>\n",
       "      <td>-50000</td>\n",
       "    </tr>\n",
       "    <tr>\n",
       "      <th>1</th>\n",
       "      <td>58</td>\n",
       "      <td>Self-employed-not incorporated</td>\n",
       "      <td>4</td>\n",
       "      <td>34</td>\n",
       "      <td>Some college but no degree</td>\n",
       "      <td>0</td>\n",
       "      <td>Not in universe</td>\n",
       "      <td>Divorced</td>\n",
       "      <td>Construction</td>\n",
       "      <td>Precision production craft &amp; repair</td>\n",
       "      <td>...</td>\n",
       "      <td>United-States</td>\n",
       "      <td>United-States</td>\n",
       "      <td>United-States</td>\n",
       "      <td>Native- Born in the United States</td>\n",
       "      <td>0</td>\n",
       "      <td>Not in universe</td>\n",
       "      <td>2</td>\n",
       "      <td>52</td>\n",
       "      <td>94</td>\n",
       "      <td>-50000</td>\n",
       "    </tr>\n",
       "    <tr>\n",
       "      <th>2</th>\n",
       "      <td>18</td>\n",
       "      <td>Not in universe</td>\n",
       "      <td>0</td>\n",
       "      <td>0</td>\n",
       "      <td>10th grade</td>\n",
       "      <td>0</td>\n",
       "      <td>High school</td>\n",
       "      <td>Never married</td>\n",
       "      <td>Not in universe or children</td>\n",
       "      <td>Not in universe</td>\n",
       "      <td>...</td>\n",
       "      <td>Vietnam</td>\n",
       "      <td>Vietnam</td>\n",
       "      <td>Vietnam</td>\n",
       "      <td>Foreign born- Not a citizen of U S</td>\n",
       "      <td>0</td>\n",
       "      <td>Not in universe</td>\n",
       "      <td>2</td>\n",
       "      <td>0</td>\n",
       "      <td>95</td>\n",
       "      <td>-50000</td>\n",
       "    </tr>\n",
       "    <tr>\n",
       "      <th>3</th>\n",
       "      <td>9</td>\n",
       "      <td>Not in universe</td>\n",
       "      <td>0</td>\n",
       "      <td>0</td>\n",
       "      <td>Children</td>\n",
       "      <td>0</td>\n",
       "      <td>Not in universe</td>\n",
       "      <td>Never married</td>\n",
       "      <td>Not in universe or children</td>\n",
       "      <td>Not in universe</td>\n",
       "      <td>...</td>\n",
       "      <td>United-States</td>\n",
       "      <td>United-States</td>\n",
       "      <td>United-States</td>\n",
       "      <td>Native- Born in the United States</td>\n",
       "      <td>0</td>\n",
       "      <td>Not in universe</td>\n",
       "      <td>0</td>\n",
       "      <td>0</td>\n",
       "      <td>94</td>\n",
       "      <td>-50000</td>\n",
       "    </tr>\n",
       "    <tr>\n",
       "      <th>4</th>\n",
       "      <td>10</td>\n",
       "      <td>Not in universe</td>\n",
       "      <td>0</td>\n",
       "      <td>0</td>\n",
       "      <td>Children</td>\n",
       "      <td>0</td>\n",
       "      <td>Not in universe</td>\n",
       "      <td>Never married</td>\n",
       "      <td>Not in universe or children</td>\n",
       "      <td>Not in universe</td>\n",
       "      <td>...</td>\n",
       "      <td>United-States</td>\n",
       "      <td>United-States</td>\n",
       "      <td>United-States</td>\n",
       "      <td>Native- Born in the United States</td>\n",
       "      <td>0</td>\n",
       "      <td>Not in universe</td>\n",
       "      <td>0</td>\n",
       "      <td>0</td>\n",
       "      <td>94</td>\n",
       "      <td>-50000</td>\n",
       "    </tr>\n",
       "  </tbody>\n",
       "</table>\n",
       "<p>5 rows × 41 columns</p>\n",
       "</div>"
      ],
      "text/plain": [
       "   age                 class_of_worker  industry_code  occupation_code  \\\n",
       "0   73                 Not in universe              0                0   \n",
       "1   58  Self-employed-not incorporated              4               34   \n",
       "2   18                 Not in universe              0                0   \n",
       "3    9                 Not in universe              0                0   \n",
       "4   10                 Not in universe              0                0   \n",
       "\n",
       "                    education  wage_per_hour enrolled_in_edu_inst_lastwk  \\\n",
       "0        High school graduate              0             Not in universe   \n",
       "1  Some college but no degree              0             Not in universe   \n",
       "2                  10th grade              0                 High school   \n",
       "3                    Children              0             Not in universe   \n",
       "4                    Children              0             Not in universe   \n",
       "\n",
       "  marital_status          major_industry_code  \\\n",
       "0        Widowed  Not in universe or children   \n",
       "1       Divorced                 Construction   \n",
       "2  Never married  Not in universe or children   \n",
       "3  Never married  Not in universe or children   \n",
       "4  Never married  Not in universe or children   \n",
       "\n",
       "                 major_occupation_code  ... country_father country_mother  \\\n",
       "0                      Not in universe  ...  United-States  United-States   \n",
       "1  Precision production craft & repair  ...  United-States  United-States   \n",
       "2                      Not in universe  ...        Vietnam        Vietnam   \n",
       "3                      Not in universe  ...  United-States  United-States   \n",
       "4                      Not in universe  ...  United-States  United-States   \n",
       "\n",
       "    country_self                         citizenship  \\\n",
       "0  United-States   Native- Born in the United States   \n",
       "1  United-States   Native- Born in the United States   \n",
       "2        Vietnam  Foreign born- Not a citizen of U S   \n",
       "3  United-States   Native- Born in the United States   \n",
       "4  United-States   Native- Born in the United States   \n",
       "\n",
       "  business_or_self_employed fill_questionnaire_veteran_admin  \\\n",
       "0                         0                  Not in universe   \n",
       "1                         0                  Not in universe   \n",
       "2                         0                  Not in universe   \n",
       "3                         0                  Not in universe   \n",
       "4                         0                  Not in universe   \n",
       "\n",
       "   veterans_benefits  weeks_worked_in_year  year income_level  \n",
       "0                  2                     0    95       -50000  \n",
       "1                  2                    52    94       -50000  \n",
       "2                  2                     0    95       -50000  \n",
       "3                  0                     0    94       -50000  \n",
       "4                  0                     0    94       -50000  \n",
       "\n",
       "[5 rows x 41 columns]"
      ]
     },
     "execution_count": 263,
     "metadata": {},
     "output_type": "execute_result"
    }
   ],
   "source": [
    "df= pd.read_csv('train.csv')\n",
    "df.head()"
   ]
  },
  {
   "cell_type": "code",
   "execution_count": 60,
   "id": "3dd05197",
   "metadata": {},
   "outputs": [
    {
     "data": {
      "text/plain": [
       "(199523, 41)"
      ]
     },
     "execution_count": 60,
     "metadata": {},
     "output_type": "execute_result"
    }
   ],
   "source": [
    "df.shape"
   ]
  },
  {
   "cell_type": "code",
   "execution_count": 62,
   "id": "7ecb0234",
   "metadata": {},
   "outputs": [
    {
     "data": {
      "text/html": [
       "<div>\n",
       "<style scoped>\n",
       "    .dataframe tbody tr th:only-of-type {\n",
       "        vertical-align: middle;\n",
       "    }\n",
       "\n",
       "    .dataframe tbody tr th {\n",
       "        vertical-align: top;\n",
       "    }\n",
       "\n",
       "    .dataframe thead th {\n",
       "        text-align: right;\n",
       "    }\n",
       "</style>\n",
       "<table border=\"1\" class=\"dataframe\">\n",
       "  <thead>\n",
       "    <tr style=\"text-align: right;\">\n",
       "      <th></th>\n",
       "      <th>age</th>\n",
       "      <th>class_of_worker</th>\n",
       "      <th>industry_code</th>\n",
       "      <th>occupation_code</th>\n",
       "      <th>education</th>\n",
       "      <th>wage_per_hour</th>\n",
       "      <th>enrolled_in_edu_inst_lastwk</th>\n",
       "      <th>marital_status</th>\n",
       "      <th>major_industry_code</th>\n",
       "      <th>major_occupation_code</th>\n",
       "      <th>...</th>\n",
       "      <th>country_father</th>\n",
       "      <th>country_mother</th>\n",
       "      <th>country_self</th>\n",
       "      <th>citizenship</th>\n",
       "      <th>business_or_self_employed</th>\n",
       "      <th>fill_questionnaire_veteran_admin</th>\n",
       "      <th>veterans_benefits</th>\n",
       "      <th>weeks_worked_in_year</th>\n",
       "      <th>year</th>\n",
       "      <th>income_level</th>\n",
       "    </tr>\n",
       "  </thead>\n",
       "  <tbody>\n",
       "    <tr>\n",
       "      <th>count</th>\n",
       "      <td>199523.000000</td>\n",
       "      <td>199523</td>\n",
       "      <td>199523.000000</td>\n",
       "      <td>199523.000000</td>\n",
       "      <td>199523</td>\n",
       "      <td>199523.000000</td>\n",
       "      <td>199523</td>\n",
       "      <td>199523</td>\n",
       "      <td>199523</td>\n",
       "      <td>199523</td>\n",
       "      <td>...</td>\n",
       "      <td>192810</td>\n",
       "      <td>193404</td>\n",
       "      <td>196130</td>\n",
       "      <td>199523</td>\n",
       "      <td>199523.000000</td>\n",
       "      <td>199523</td>\n",
       "      <td>199523.000000</td>\n",
       "      <td>199523.000000</td>\n",
       "      <td>199523.000000</td>\n",
       "      <td>199523.000000</td>\n",
       "    </tr>\n",
       "    <tr>\n",
       "      <th>unique</th>\n",
       "      <td>NaN</td>\n",
       "      <td>9</td>\n",
       "      <td>NaN</td>\n",
       "      <td>NaN</td>\n",
       "      <td>17</td>\n",
       "      <td>NaN</td>\n",
       "      <td>3</td>\n",
       "      <td>7</td>\n",
       "      <td>24</td>\n",
       "      <td>15</td>\n",
       "      <td>...</td>\n",
       "      <td>42</td>\n",
       "      <td>42</td>\n",
       "      <td>42</td>\n",
       "      <td>5</td>\n",
       "      <td>NaN</td>\n",
       "      <td>3</td>\n",
       "      <td>NaN</td>\n",
       "      <td>NaN</td>\n",
       "      <td>NaN</td>\n",
       "      <td>NaN</td>\n",
       "    </tr>\n",
       "    <tr>\n",
       "      <th>top</th>\n",
       "      <td>NaN</td>\n",
       "      <td>Not in universe</td>\n",
       "      <td>NaN</td>\n",
       "      <td>NaN</td>\n",
       "      <td>High school graduate</td>\n",
       "      <td>NaN</td>\n",
       "      <td>Not in universe</td>\n",
       "      <td>Never married</td>\n",
       "      <td>Not in universe or children</td>\n",
       "      <td>Not in universe</td>\n",
       "      <td>...</td>\n",
       "      <td>United-States</td>\n",
       "      <td>United-States</td>\n",
       "      <td>United-States</td>\n",
       "      <td>Native- Born in the United States</td>\n",
       "      <td>NaN</td>\n",
       "      <td>Not in universe</td>\n",
       "      <td>NaN</td>\n",
       "      <td>NaN</td>\n",
       "      <td>NaN</td>\n",
       "      <td>NaN</td>\n",
       "    </tr>\n",
       "    <tr>\n",
       "      <th>freq</th>\n",
       "      <td>NaN</td>\n",
       "      <td>100245</td>\n",
       "      <td>NaN</td>\n",
       "      <td>NaN</td>\n",
       "      <td>48407</td>\n",
       "      <td>NaN</td>\n",
       "      <td>186943</td>\n",
       "      <td>86485</td>\n",
       "      <td>100684</td>\n",
       "      <td>100684</td>\n",
       "      <td>...</td>\n",
       "      <td>159163</td>\n",
       "      <td>160479</td>\n",
       "      <td>176989</td>\n",
       "      <td>176992</td>\n",
       "      <td>NaN</td>\n",
       "      <td>197539</td>\n",
       "      <td>NaN</td>\n",
       "      <td>NaN</td>\n",
       "      <td>NaN</td>\n",
       "      <td>NaN</td>\n",
       "    </tr>\n",
       "    <tr>\n",
       "      <th>mean</th>\n",
       "      <td>34.494199</td>\n",
       "      <td>NaN</td>\n",
       "      <td>15.352320</td>\n",
       "      <td>11.306556</td>\n",
       "      <td>NaN</td>\n",
       "      <td>55.426908</td>\n",
       "      <td>NaN</td>\n",
       "      <td>NaN</td>\n",
       "      <td>NaN</td>\n",
       "      <td>NaN</td>\n",
       "      <td>...</td>\n",
       "      <td>NaN</td>\n",
       "      <td>NaN</td>\n",
       "      <td>NaN</td>\n",
       "      <td>NaN</td>\n",
       "      <td>0.175438</td>\n",
       "      <td>NaN</td>\n",
       "      <td>1.514833</td>\n",
       "      <td>23.174897</td>\n",
       "      <td>94.499672</td>\n",
       "      <td>-43794.199165</td>\n",
       "    </tr>\n",
       "    <tr>\n",
       "      <th>std</th>\n",
       "      <td>22.310895</td>\n",
       "      <td>NaN</td>\n",
       "      <td>18.067129</td>\n",
       "      <td>14.454204</td>\n",
       "      <td>NaN</td>\n",
       "      <td>274.896454</td>\n",
       "      <td>NaN</td>\n",
       "      <td>NaN</td>\n",
       "      <td>NaN</td>\n",
       "      <td>NaN</td>\n",
       "      <td>...</td>\n",
       "      <td>NaN</td>\n",
       "      <td>NaN</td>\n",
       "      <td>NaN</td>\n",
       "      <td>NaN</td>\n",
       "      <td>0.553694</td>\n",
       "      <td>NaN</td>\n",
       "      <td>0.851473</td>\n",
       "      <td>24.411488</td>\n",
       "      <td>0.500001</td>\n",
       "      <td>24126.148404</td>\n",
       "    </tr>\n",
       "    <tr>\n",
       "      <th>min</th>\n",
       "      <td>0.000000</td>\n",
       "      <td>NaN</td>\n",
       "      <td>0.000000</td>\n",
       "      <td>0.000000</td>\n",
       "      <td>NaN</td>\n",
       "      <td>0.000000</td>\n",
       "      <td>NaN</td>\n",
       "      <td>NaN</td>\n",
       "      <td>NaN</td>\n",
       "      <td>NaN</td>\n",
       "      <td>...</td>\n",
       "      <td>NaN</td>\n",
       "      <td>NaN</td>\n",
       "      <td>NaN</td>\n",
       "      <td>NaN</td>\n",
       "      <td>0.000000</td>\n",
       "      <td>NaN</td>\n",
       "      <td>0.000000</td>\n",
       "      <td>0.000000</td>\n",
       "      <td>94.000000</td>\n",
       "      <td>-50000.000000</td>\n",
       "    </tr>\n",
       "    <tr>\n",
       "      <th>25%</th>\n",
       "      <td>15.000000</td>\n",
       "      <td>NaN</td>\n",
       "      <td>0.000000</td>\n",
       "      <td>0.000000</td>\n",
       "      <td>NaN</td>\n",
       "      <td>0.000000</td>\n",
       "      <td>NaN</td>\n",
       "      <td>NaN</td>\n",
       "      <td>NaN</td>\n",
       "      <td>NaN</td>\n",
       "      <td>...</td>\n",
       "      <td>NaN</td>\n",
       "      <td>NaN</td>\n",
       "      <td>NaN</td>\n",
       "      <td>NaN</td>\n",
       "      <td>0.000000</td>\n",
       "      <td>NaN</td>\n",
       "      <td>2.000000</td>\n",
       "      <td>0.000000</td>\n",
       "      <td>94.000000</td>\n",
       "      <td>-50000.000000</td>\n",
       "    </tr>\n",
       "    <tr>\n",
       "      <th>50%</th>\n",
       "      <td>33.000000</td>\n",
       "      <td>NaN</td>\n",
       "      <td>0.000000</td>\n",
       "      <td>0.000000</td>\n",
       "      <td>NaN</td>\n",
       "      <td>0.000000</td>\n",
       "      <td>NaN</td>\n",
       "      <td>NaN</td>\n",
       "      <td>NaN</td>\n",
       "      <td>NaN</td>\n",
       "      <td>...</td>\n",
       "      <td>NaN</td>\n",
       "      <td>NaN</td>\n",
       "      <td>NaN</td>\n",
       "      <td>NaN</td>\n",
       "      <td>0.000000</td>\n",
       "      <td>NaN</td>\n",
       "      <td>2.000000</td>\n",
       "      <td>8.000000</td>\n",
       "      <td>94.000000</td>\n",
       "      <td>-50000.000000</td>\n",
       "    </tr>\n",
       "    <tr>\n",
       "      <th>75%</th>\n",
       "      <td>50.000000</td>\n",
       "      <td>NaN</td>\n",
       "      <td>33.000000</td>\n",
       "      <td>26.000000</td>\n",
       "      <td>NaN</td>\n",
       "      <td>0.000000</td>\n",
       "      <td>NaN</td>\n",
       "      <td>NaN</td>\n",
       "      <td>NaN</td>\n",
       "      <td>NaN</td>\n",
       "      <td>...</td>\n",
       "      <td>NaN</td>\n",
       "      <td>NaN</td>\n",
       "      <td>NaN</td>\n",
       "      <td>NaN</td>\n",
       "      <td>0.000000</td>\n",
       "      <td>NaN</td>\n",
       "      <td>2.000000</td>\n",
       "      <td>52.000000</td>\n",
       "      <td>95.000000</td>\n",
       "      <td>-50000.000000</td>\n",
       "    </tr>\n",
       "    <tr>\n",
       "      <th>80%</th>\n",
       "      <td>55.000000</td>\n",
       "      <td>NaN</td>\n",
       "      <td>36.000000</td>\n",
       "      <td>29.000000</td>\n",
       "      <td>NaN</td>\n",
       "      <td>0.000000</td>\n",
       "      <td>NaN</td>\n",
       "      <td>NaN</td>\n",
       "      <td>NaN</td>\n",
       "      <td>NaN</td>\n",
       "      <td>...</td>\n",
       "      <td>NaN</td>\n",
       "      <td>NaN</td>\n",
       "      <td>NaN</td>\n",
       "      <td>NaN</td>\n",
       "      <td>0.000000</td>\n",
       "      <td>NaN</td>\n",
       "      <td>2.000000</td>\n",
       "      <td>52.000000</td>\n",
       "      <td>95.000000</td>\n",
       "      <td>-50000.000000</td>\n",
       "    </tr>\n",
       "    <tr>\n",
       "      <th>90%</th>\n",
       "      <td>67.000000</td>\n",
       "      <td>NaN</td>\n",
       "      <td>43.000000</td>\n",
       "      <td>35.000000</td>\n",
       "      <td>NaN</td>\n",
       "      <td>0.000000</td>\n",
       "      <td>NaN</td>\n",
       "      <td>NaN</td>\n",
       "      <td>NaN</td>\n",
       "      <td>NaN</td>\n",
       "      <td>...</td>\n",
       "      <td>NaN</td>\n",
       "      <td>NaN</td>\n",
       "      <td>NaN</td>\n",
       "      <td>NaN</td>\n",
       "      <td>0.000000</td>\n",
       "      <td>NaN</td>\n",
       "      <td>2.000000</td>\n",
       "      <td>52.000000</td>\n",
       "      <td>95.000000</td>\n",
       "      <td>-50000.000000</td>\n",
       "    </tr>\n",
       "    <tr>\n",
       "      <th>100%</th>\n",
       "      <td>90.000000</td>\n",
       "      <td>NaN</td>\n",
       "      <td>51.000000</td>\n",
       "      <td>46.000000</td>\n",
       "      <td>NaN</td>\n",
       "      <td>9999.000000</td>\n",
       "      <td>NaN</td>\n",
       "      <td>NaN</td>\n",
       "      <td>NaN</td>\n",
       "      <td>NaN</td>\n",
       "      <td>...</td>\n",
       "      <td>NaN</td>\n",
       "      <td>NaN</td>\n",
       "      <td>NaN</td>\n",
       "      <td>NaN</td>\n",
       "      <td>2.000000</td>\n",
       "      <td>NaN</td>\n",
       "      <td>2.000000</td>\n",
       "      <td>52.000000</td>\n",
       "      <td>95.000000</td>\n",
       "      <td>50000.000000</td>\n",
       "    </tr>\n",
       "    <tr>\n",
       "      <th>max</th>\n",
       "      <td>90.000000</td>\n",
       "      <td>NaN</td>\n",
       "      <td>51.000000</td>\n",
       "      <td>46.000000</td>\n",
       "      <td>NaN</td>\n",
       "      <td>9999.000000</td>\n",
       "      <td>NaN</td>\n",
       "      <td>NaN</td>\n",
       "      <td>NaN</td>\n",
       "      <td>NaN</td>\n",
       "      <td>...</td>\n",
       "      <td>NaN</td>\n",
       "      <td>NaN</td>\n",
       "      <td>NaN</td>\n",
       "      <td>NaN</td>\n",
       "      <td>2.000000</td>\n",
       "      <td>NaN</td>\n",
       "      <td>2.000000</td>\n",
       "      <td>52.000000</td>\n",
       "      <td>95.000000</td>\n",
       "      <td>50000.000000</td>\n",
       "    </tr>\n",
       "  </tbody>\n",
       "</table>\n",
       "<p>14 rows × 41 columns</p>\n",
       "</div>"
      ],
      "text/plain": [
       "                  age  class_of_worker  industry_code  occupation_code  \\\n",
       "count   199523.000000           199523  199523.000000    199523.000000   \n",
       "unique            NaN                9            NaN              NaN   \n",
       "top               NaN  Not in universe            NaN              NaN   \n",
       "freq              NaN           100245            NaN              NaN   \n",
       "mean        34.494199              NaN      15.352320        11.306556   \n",
       "std         22.310895              NaN      18.067129        14.454204   \n",
       "min          0.000000              NaN       0.000000         0.000000   \n",
       "25%         15.000000              NaN       0.000000         0.000000   \n",
       "50%         33.000000              NaN       0.000000         0.000000   \n",
       "75%         50.000000              NaN      33.000000        26.000000   \n",
       "80%         55.000000              NaN      36.000000        29.000000   \n",
       "90%         67.000000              NaN      43.000000        35.000000   \n",
       "100%        90.000000              NaN      51.000000        46.000000   \n",
       "max         90.000000              NaN      51.000000        46.000000   \n",
       "\n",
       "                   education  wage_per_hour enrolled_in_edu_inst_lastwk  \\\n",
       "count                 199523  199523.000000                      199523   \n",
       "unique                    17            NaN                           3   \n",
       "top     High school graduate            NaN             Not in universe   \n",
       "freq                   48407            NaN                      186943   \n",
       "mean                     NaN      55.426908                         NaN   \n",
       "std                      NaN     274.896454                         NaN   \n",
       "min                      NaN       0.000000                         NaN   \n",
       "25%                      NaN       0.000000                         NaN   \n",
       "50%                      NaN       0.000000                         NaN   \n",
       "75%                      NaN       0.000000                         NaN   \n",
       "80%                      NaN       0.000000                         NaN   \n",
       "90%                      NaN       0.000000                         NaN   \n",
       "100%                     NaN    9999.000000                         NaN   \n",
       "max                      NaN    9999.000000                         NaN   \n",
       "\n",
       "       marital_status          major_industry_code major_occupation_code  ...  \\\n",
       "count          199523                       199523                199523  ...   \n",
       "unique              7                           24                    15  ...   \n",
       "top     Never married  Not in universe or children       Not in universe  ...   \n",
       "freq            86485                       100684                100684  ...   \n",
       "mean              NaN                          NaN                   NaN  ...   \n",
       "std               NaN                          NaN                   NaN  ...   \n",
       "min               NaN                          NaN                   NaN  ...   \n",
       "25%               NaN                          NaN                   NaN  ...   \n",
       "50%               NaN                          NaN                   NaN  ...   \n",
       "75%               NaN                          NaN                   NaN  ...   \n",
       "80%               NaN                          NaN                   NaN  ...   \n",
       "90%               NaN                          NaN                   NaN  ...   \n",
       "100%              NaN                          NaN                   NaN  ...   \n",
       "max               NaN                          NaN                   NaN  ...   \n",
       "\n",
       "       country_father country_mother   country_self  \\\n",
       "count          192810         193404         196130   \n",
       "unique             42             42             42   \n",
       "top     United-States  United-States  United-States   \n",
       "freq           159163         160479         176989   \n",
       "mean              NaN            NaN            NaN   \n",
       "std               NaN            NaN            NaN   \n",
       "min               NaN            NaN            NaN   \n",
       "25%               NaN            NaN            NaN   \n",
       "50%               NaN            NaN            NaN   \n",
       "75%               NaN            NaN            NaN   \n",
       "80%               NaN            NaN            NaN   \n",
       "90%               NaN            NaN            NaN   \n",
       "100%              NaN            NaN            NaN   \n",
       "max               NaN            NaN            NaN   \n",
       "\n",
       "                              citizenship business_or_self_employed  \\\n",
       "count                              199523             199523.000000   \n",
       "unique                                  5                       NaN   \n",
       "top     Native- Born in the United States                       NaN   \n",
       "freq                               176992                       NaN   \n",
       "mean                                  NaN                  0.175438   \n",
       "std                                   NaN                  0.553694   \n",
       "min                                   NaN                  0.000000   \n",
       "25%                                   NaN                  0.000000   \n",
       "50%                                   NaN                  0.000000   \n",
       "75%                                   NaN                  0.000000   \n",
       "80%                                   NaN                  0.000000   \n",
       "90%                                   NaN                  0.000000   \n",
       "100%                                  NaN                  2.000000   \n",
       "max                                   NaN                  2.000000   \n",
       "\n",
       "       fill_questionnaire_veteran_admin  veterans_benefits  \\\n",
       "count                            199523      199523.000000   \n",
       "unique                                3                NaN   \n",
       "top                     Not in universe                NaN   \n",
       "freq                             197539                NaN   \n",
       "mean                                NaN           1.514833   \n",
       "std                                 NaN           0.851473   \n",
       "min                                 NaN           0.000000   \n",
       "25%                                 NaN           2.000000   \n",
       "50%                                 NaN           2.000000   \n",
       "75%                                 NaN           2.000000   \n",
       "80%                                 NaN           2.000000   \n",
       "90%                                 NaN           2.000000   \n",
       "100%                                NaN           2.000000   \n",
       "max                                 NaN           2.000000   \n",
       "\n",
       "        weeks_worked_in_year           year   income_level  \n",
       "count          199523.000000  199523.000000  199523.000000  \n",
       "unique                   NaN            NaN            NaN  \n",
       "top                      NaN            NaN            NaN  \n",
       "freq                     NaN            NaN            NaN  \n",
       "mean               23.174897      94.499672  -43794.199165  \n",
       "std                24.411488       0.500001   24126.148404  \n",
       "min                 0.000000      94.000000  -50000.000000  \n",
       "25%                 0.000000      94.000000  -50000.000000  \n",
       "50%                 8.000000      94.000000  -50000.000000  \n",
       "75%                52.000000      95.000000  -50000.000000  \n",
       "80%                52.000000      95.000000  -50000.000000  \n",
       "90%                52.000000      95.000000  -50000.000000  \n",
       "100%               52.000000      95.000000   50000.000000  \n",
       "max                52.000000      95.000000   50000.000000  \n",
       "\n",
       "[14 rows x 41 columns]"
      ]
     },
     "execution_count": 62,
     "metadata": {},
     "output_type": "execute_result"
    }
   ],
   "source": [
    "df.describe(include='all',percentiles=[0.25,0.5,0.75,0.8,0.9,1])"
   ]
  },
  {
   "cell_type": "code",
   "execution_count": 64,
   "id": "5d3e2dc8",
   "metadata": {},
   "outputs": [
    {
     "data": {
      "text/plain": [
       "age                                     0\n",
       "class_of_worker                         0\n",
       "industry_code                           0\n",
       "occupation_code                         0\n",
       "education                               0\n",
       "wage_per_hour                           0\n",
       "enrolled_in_edu_inst_lastwk             0\n",
       "marital_status                          0\n",
       "major_industry_code                     0\n",
       "major_occupation_code                   0\n",
       "race                                    0\n",
       "hispanic_origin                       874\n",
       "sex                                     0\n",
       "member_of_labor_union                   0\n",
       "reason_for_unemployment                 0\n",
       "full_parttime_employment_stat           0\n",
       "capital_gains                           0\n",
       "capital_losses                          0\n",
       "dividend_from_Stocks                    0\n",
       "tax_filer_status                        0\n",
       "region_of_previous_residence            0\n",
       "state_of_previous_residence           708\n",
       "d_household_family_stat                 0\n",
       "d_household_summary                     0\n",
       "migration_msa                       99696\n",
       "migration_reg                       99696\n",
       "migration_within_reg                99696\n",
       "live_1_year_ago                         0\n",
       "migration_sunbelt                   99696\n",
       "num_person_Worked_employer              0\n",
       "family_members_under_18                 0\n",
       "country_father                       6713\n",
       "country_mother                       6119\n",
       "country_self                         3393\n",
       "citizenship                             0\n",
       "business_or_self_employed               0\n",
       "fill_questionnaire_veteran_admin        0\n",
       "veterans_benefits                       0\n",
       "weeks_worked_in_year                    0\n",
       "year                                    0\n",
       "income_level                            0\n",
       "dtype: int64"
      ]
     },
     "execution_count": 64,
     "metadata": {},
     "output_type": "execute_result"
    }
   ],
   "source": [
    "df.isnull().sum()"
   ]
  },
  {
   "cell_type": "code",
   "execution_count": 65,
   "id": "12714cf5",
   "metadata": {
    "scrolled": false
   },
   "outputs": [
    {
     "data": {
      "text/plain": [
       "All other                    171907\n",
       "Mexican-American               8079\n",
       "Mexican (Mexicano)             7234\n",
       "Central or South American      3895\n",
       "Puerto Rican                   3313\n",
       "Other Spanish                  2485\n",
       "Cuban                          1126\n",
       "Do not know                     306\n",
       "Chicano                         304\n",
       "Name: hispanic_origin, dtype: int64"
      ]
     },
     "execution_count": 65,
     "metadata": {},
     "output_type": "execute_result"
    }
   ],
   "source": [
    "df.hispanic_origin.value_counts()"
   ]
  },
  {
   "cell_type": "code",
   "execution_count": 66,
   "id": "7b4a020d",
   "metadata": {},
   "outputs": [
    {
     "name": "stdout",
     "output_type": "stream",
     "text": [
      "<class 'pandas.core.frame.DataFrame'>\n",
      "RangeIndex: 199523 entries, 0 to 199522\n",
      "Data columns (total 41 columns):\n",
      " #   Column                            Non-Null Count   Dtype \n",
      "---  ------                            --------------   ----- \n",
      " 0   age                               199523 non-null  int64 \n",
      " 1   class_of_worker                   199523 non-null  object\n",
      " 2   industry_code                     199523 non-null  int64 \n",
      " 3   occupation_code                   199523 non-null  int64 \n",
      " 4   education                         199523 non-null  object\n",
      " 5   wage_per_hour                     199523 non-null  int64 \n",
      " 6   enrolled_in_edu_inst_lastwk       199523 non-null  object\n",
      " 7   marital_status                    199523 non-null  object\n",
      " 8   major_industry_code               199523 non-null  object\n",
      " 9   major_occupation_code             199523 non-null  object\n",
      " 10  race                              199523 non-null  object\n",
      " 11  hispanic_origin                   198649 non-null  object\n",
      " 12  sex                               199523 non-null  object\n",
      " 13  member_of_labor_union             199523 non-null  object\n",
      " 14  reason_for_unemployment           199523 non-null  object\n",
      " 15  full_parttime_employment_stat     199523 non-null  object\n",
      " 16  capital_gains                     199523 non-null  int64 \n",
      " 17  capital_losses                    199523 non-null  int64 \n",
      " 18  dividend_from_Stocks              199523 non-null  int64 \n",
      " 19  tax_filer_status                  199523 non-null  object\n",
      " 20  region_of_previous_residence      199523 non-null  object\n",
      " 21  state_of_previous_residence       198815 non-null  object\n",
      " 22  d_household_family_stat           199523 non-null  object\n",
      " 23  d_household_summary               199523 non-null  object\n",
      " 24  migration_msa                     99827 non-null   object\n",
      " 25  migration_reg                     99827 non-null   object\n",
      " 26  migration_within_reg              99827 non-null   object\n",
      " 27  live_1_year_ago                   199523 non-null  object\n",
      " 28  migration_sunbelt                 99827 non-null   object\n",
      " 29  num_person_Worked_employer        199523 non-null  int64 \n",
      " 30  family_members_under_18           199523 non-null  object\n",
      " 31  country_father                    192810 non-null  object\n",
      " 32  country_mother                    193404 non-null  object\n",
      " 33  country_self                      196130 non-null  object\n",
      " 34  citizenship                       199523 non-null  object\n",
      " 35  business_or_self_employed         199523 non-null  int64 \n",
      " 36  fill_questionnaire_veteran_admin  199523 non-null  object\n",
      " 37  veterans_benefits                 199523 non-null  int64 \n",
      " 38  weeks_worked_in_year              199523 non-null  int64 \n",
      " 39  year                              199523 non-null  int64 \n",
      " 40  income_level                      199523 non-null  int64 \n",
      "dtypes: int64(13), object(28)\n",
      "memory usage: 62.4+ MB\n"
     ]
    }
   ],
   "source": [
    "df.info()"
   ]
  },
  {
   "cell_type": "code",
   "execution_count": 67,
   "id": "cde0ed14",
   "metadata": {},
   "outputs": [
    {
     "data": {
      "text/plain": [
       "Not in universe         183750\n",
       "California                1714\n",
       "Utah                      1063\n",
       "Florida                    849\n",
       "North Carolina             812\n",
       "Abroad                     671\n",
       "Oklahoma                   626\n",
       "Minnesota                  576\n",
       "Indiana                    533\n",
       "North Dakota               499\n",
       "New Mexico                 463\n",
       "Michigan                   441\n",
       "Alaska                     290\n",
       "Kentucky                   244\n",
       "Arizona                    243\n",
       "New Hampshire              242\n",
       "Wyoming                    241\n",
       "Colorado                   239\n",
       "Oregon                     236\n",
       "West Virginia              231\n",
       "Georgia                    227\n",
       "Montana                    226\n",
       "Alabama                    216\n",
       "Ohio                       211\n",
       "Texas                      209\n",
       "Arkansas                   205\n",
       "Mississippi                204\n",
       "Tennessee                  202\n",
       "Pennsylvania               199\n",
       "New York                   195\n",
       "Louisiana                  192\n",
       "Vermont                    191\n",
       "Iowa                       189\n",
       "Illinois                   180\n",
       "Nebraska                   178\n",
       "Missouri                   175\n",
       "Nevada                     174\n",
       "Maine                      167\n",
       "Massachusetts              151\n",
       "Kansas                     149\n",
       "South Dakota               138\n",
       "Maryland                   136\n",
       "Virginia                   126\n",
       "Connecticut                117\n",
       "District of Columbia       116\n",
       "Wisconsin                  105\n",
       "South Carolina              95\n",
       "New Jersey                  75\n",
       "Delaware                    73\n",
       "Idaho                       31\n",
       "Name: state_of_previous_residence, dtype: int64"
      ]
     },
     "execution_count": 67,
     "metadata": {},
     "output_type": "execute_result"
    }
   ],
   "source": [
    "df.state_of_previous_residence.value_counts()"
   ]
  },
  {
   "cell_type": "code",
   "execution_count": 68,
   "id": "67c16cba",
   "metadata": {},
   "outputs": [
    {
     "data": {
      "text/plain": [
       "Nonmover            82538\n",
       "MSA to MSA          10601\n",
       "NonMSA to nonMSA     2811\n",
       "Not in universe      1516\n",
       "MSA to nonMSA         790\n",
       "NonMSA to MSA         615\n",
       "Abroad to MSA         453\n",
       "Not identifiable      430\n",
       "Abroad to nonMSA       73\n",
       "Name: migration_msa, dtype: int64"
      ]
     },
     "execution_count": 68,
     "metadata": {},
     "output_type": "execute_result"
    }
   ],
   "source": [
    "df.migration_msa.value_counts()"
   ]
  },
  {
   "cell_type": "code",
   "execution_count": 69,
   "id": "37a56eea",
   "metadata": {},
   "outputs": [
    {
     "data": {
      "text/plain": [
       "Nonmover                          82538\n",
       "Same county                        9812\n",
       "Different county same state        2797\n",
       "Not in universe                    1516\n",
       "Different region                   1178\n",
       "Different state same division       991\n",
       "Abroad                              530\n",
       "Different division same region      465\n",
       "Name: migration_reg, dtype: int64"
      ]
     },
     "execution_count": 69,
     "metadata": {},
     "output_type": "execute_result"
    }
   ],
   "source": [
    "df.migration_reg.value_counts()"
   ]
  },
  {
   "cell_type": "code",
   "execution_count": 70,
   "id": "ce4d2990",
   "metadata": {},
   "outputs": [
    {
     "data": {
      "text/plain": [
       "Nonmover                        82538\n",
       "Same county                      9812\n",
       "Different county same state      2797\n",
       "Not in universe                  1516\n",
       "Different state in South          973\n",
       "Different state in West           679\n",
       "Different state in Midwest        551\n",
       "Abroad                            530\n",
       "Different state in Northeast      431\n",
       "Name: migration_within_reg, dtype: int64"
      ]
     },
     "execution_count": 70,
     "metadata": {},
     "output_type": "execute_result"
    }
   ],
   "source": [
    "df.migration_within_reg.value_counts()"
   ]
  },
  {
   "cell_type": "code",
   "execution_count": 71,
   "id": "7dfa980b",
   "metadata": {},
   "outputs": [
    {
     "data": {
      "text/plain": [
       "Not in universe    84054\n",
       "No                  9987\n",
       "Yes                 5786\n",
       "Name: migration_sunbelt, dtype: int64"
      ]
     },
     "execution_count": 71,
     "metadata": {},
     "output_type": "execute_result"
    }
   ],
   "source": [
    "df.migration_sunbelt.value_counts()"
   ]
  },
  {
   "cell_type": "code",
   "execution_count": 72,
   "id": "81b58056",
   "metadata": {},
   "outputs": [
    {
     "data": {
      "text/plain": [
       "United-States                   159163\n",
       "Mexico                           10008\n",
       "Puerto-Rico                       2680\n",
       "Italy                             2212\n",
       "Canada                            1380\n",
       "Germany                           1356\n",
       "Dominican-Republic                1290\n",
       "Poland                            1212\n",
       "Philippines                       1154\n",
       "Cuba                              1125\n",
       "El-Salvador                        982\n",
       "China                              856\n",
       "England                            793\n",
       "Columbia                           614\n",
       "India                              580\n",
       "South Korea                        530\n",
       "Ireland                            508\n",
       "Jamaica                            463\n",
       "Vietnam                            457\n",
       "Guatemala                          445\n",
       "Japan                              392\n",
       "Portugal                           388\n",
       "Ecuador                            379\n",
       "Haiti                              351\n",
       "Greece                             344\n",
       "Peru                               335\n",
       "Nicaragua                          315\n",
       "Hungary                            306\n",
       "Scotland                           247\n",
       "Iran                               233\n",
       "Yugoslavia                         217\n",
       "Taiwan                             199\n",
       "Cambodia                           196\n",
       "Honduras                           194\n",
       "France                             191\n",
       "Outlying-U S (Guam USVI etc)       159\n",
       "Laos                               154\n",
       "Trinadad&Tobago                    113\n",
       "Thailand                           107\n",
       "Hong Kong                          106\n",
       "Holand-Netherlands                  51\n",
       "Panama                              25\n",
       "Name: country_father, dtype: int64"
      ]
     },
     "execution_count": 72,
     "metadata": {},
     "output_type": "execute_result"
    }
   ],
   "source": [
    "df.country_father.value_counts()"
   ]
  },
  {
   "cell_type": "code",
   "execution_count": 73,
   "id": "2492570e",
   "metadata": {},
   "outputs": [
    {
     "data": {
      "text/plain": [
       "United-States                   160479\n",
       "Mexico                            9781\n",
       "Puerto-Rico                       2473\n",
       "Italy                             1844\n",
       "Canada                            1451\n",
       "Germany                           1382\n",
       "Philippines                       1231\n",
       "Poland                            1110\n",
       "Cuba                              1108\n",
       "El-Salvador                       1108\n",
       "Dominican-Republic                1103\n",
       "England                            903\n",
       "China                              760\n",
       "Columbia                           612\n",
       "South Korea                        609\n",
       "Ireland                            599\n",
       "India                              581\n",
       "Vietnam                            473\n",
       "Japan                              469\n",
       "Jamaica                            453\n",
       "Guatemala                          444\n",
       "Ecuador                            375\n",
       "Peru                               355\n",
       "Haiti                              353\n",
       "Portugal                           342\n",
       "Nicaragua                          301\n",
       "Hungary                            297\n",
       "Greece                             261\n",
       "Scotland                           241\n",
       "Taiwan                             222\n",
       "Honduras                           218\n",
       "France                             212\n",
       "Iran                               198\n",
       "Yugoslavia                         177\n",
       "Cambodia                           157\n",
       "Outlying-U S (Guam USVI etc)       157\n",
       "Laos                               155\n",
       "Thailand                           123\n",
       "Hong Kong                          107\n",
       "Trinadad&Tobago                     99\n",
       "Holand-Netherlands                  49\n",
       "Panama                              32\n",
       "Name: country_mother, dtype: int64"
      ]
     },
     "execution_count": 73,
     "metadata": {},
     "output_type": "execute_result"
    }
   ],
   "source": [
    "df.country_mother.value_counts()"
   ]
  },
  {
   "cell_type": "code",
   "execution_count": 74,
   "id": "287e6318",
   "metadata": {},
   "outputs": [
    {
     "data": {
      "text/plain": [
       "United-States                   176989\n",
       "Mexico                            5767\n",
       "Puerto-Rico                       1400\n",
       "Germany                            851\n",
       "Philippines                        845\n",
       "Cuba                               837\n",
       "Canada                             700\n",
       "Dominican-Republic                 690\n",
       "El-Salvador                        689\n",
       "China                              478\n",
       "South Korea                        471\n",
       "England                            457\n",
       "Columbia                           434\n",
       "Italy                              419\n",
       "India                              408\n",
       "Vietnam                            391\n",
       "Poland                             381\n",
       "Guatemala                          344\n",
       "Japan                              339\n",
       "Jamaica                            320\n",
       "Peru                               268\n",
       "Ecuador                            258\n",
       "Haiti                              228\n",
       "Nicaragua                          218\n",
       "Taiwan                             201\n",
       "Portugal                           174\n",
       "Iran                               157\n",
       "Greece                             147\n",
       "Honduras                           144\n",
       "Ireland                            135\n",
       "France                             121\n",
       "Outlying-U S (Guam USVI etc)       119\n",
       "Thailand                           113\n",
       "Laos                               105\n",
       "Hong Kong                          100\n",
       "Cambodia                            95\n",
       "Hungary                             79\n",
       "Scotland                            75\n",
       "Trinadad&Tobago                     66\n",
       "Yugoslavia                          66\n",
       "Panama                              28\n",
       "Holand-Netherlands                  23\n",
       "Name: country_self, dtype: int64"
      ]
     },
     "execution_count": 74,
     "metadata": {},
     "output_type": "execute_result"
    }
   ],
   "source": [
    "df.country_self.value_counts()"
   ]
  },
  {
   "cell_type": "code",
   "execution_count": 264,
   "id": "28066005",
   "metadata": {},
   "outputs": [],
   "source": [
    "df=df.drop(['migration_reg','migration_within_reg','migration_msa','migration_sunbelt'],axis=1)"
   ]
  },
  {
   "cell_type": "code",
   "execution_count": 96,
   "id": "384527cb",
   "metadata": {},
   "outputs": [
    {
     "data": {
      "text/plain": [
       "(199523, 37)"
      ]
     },
     "execution_count": 96,
     "metadata": {},
     "output_type": "execute_result"
    }
   ],
   "source": [
    "df.shape"
   ]
  },
  {
   "cell_type": "code",
   "execution_count": 265,
   "id": "f60cf418",
   "metadata": {},
   "outputs": [],
   "source": [
    "df=df.fillna({'state_of_previous_residence':'Not Available','hispanic_origin':'Not Available',\n",
    "             'country_father':'Not Available','country_mother':'Not Available','country_self':'Not Available'})"
   ]
  },
  {
   "cell_type": "code",
   "execution_count": 101,
   "id": "6c77762f",
   "metadata": {},
   "outputs": [
    {
     "data": {
      "text/plain": [
       "All other                    171907\n",
       "Mexican-American               8079\n",
       "Mexican (Mexicano)             7234\n",
       "Central or South American      3895\n",
       "Puerto Rican                   3313\n",
       "Other Spanish                  2485\n",
       "Cuban                          1126\n",
       "Not Available                   874\n",
       "Do not know                     306\n",
       "Chicano                         304\n",
       "Name: hispanic_origin, dtype: int64"
      ]
     },
     "execution_count": 101,
     "metadata": {},
     "output_type": "execute_result"
    }
   ],
   "source": [
    "df.shape\n",
    "df.hispanic_origin.value_counts()"
   ]
  },
  {
   "cell_type": "code",
   "execution_count": 102,
   "id": "f2887ae3",
   "metadata": {},
   "outputs": [
    {
     "data": {
      "text/plain": [
       "age                                 0\n",
       "class_of_worker                     0\n",
       "industry_code                       0\n",
       "occupation_code                     0\n",
       "education                           0\n",
       "wage_per_hour                       0\n",
       "enrolled_in_edu_inst_lastwk         0\n",
       "marital_status                      0\n",
       "major_industry_code                 0\n",
       "major_occupation_code               0\n",
       "race                                0\n",
       "hispanic_origin                     0\n",
       "sex                                 0\n",
       "member_of_labor_union               0\n",
       "reason_for_unemployment             0\n",
       "full_parttime_employment_stat       0\n",
       "capital_gains                       0\n",
       "capital_losses                      0\n",
       "dividend_from_Stocks                0\n",
       "tax_filer_status                    0\n",
       "region_of_previous_residence        0\n",
       "state_of_previous_residence         0\n",
       "d_household_family_stat             0\n",
       "d_household_summary                 0\n",
       "live_1_year_ago                     0\n",
       "num_person_Worked_employer          0\n",
       "family_members_under_18             0\n",
       "country_father                      0\n",
       "country_mother                      0\n",
       "country_self                        0\n",
       "citizenship                         0\n",
       "business_or_self_employed           0\n",
       "fill_questionnaire_veteran_admin    0\n",
       "veterans_benefits                   0\n",
       "weeks_worked_in_year                0\n",
       "year                                0\n",
       "income_level                        0\n",
       "dtype: int64"
      ]
     },
     "execution_count": 102,
     "metadata": {},
     "output_type": "execute_result"
    }
   ],
   "source": [
    "df.isnull().sum()"
   ]
  },
  {
   "cell_type": "code",
   "execution_count": 103,
   "id": "eb08681f",
   "metadata": {},
   "outputs": [
    {
     "data": {
      "text/plain": [
       "array([[<AxesSubplot:title={'center':'age'}>,\n",
       "        <AxesSubplot:title={'center':'industry_code'}>,\n",
       "        <AxesSubplot:title={'center':'occupation_code'}>,\n",
       "        <AxesSubplot:title={'center':'wage_per_hour'}>],\n",
       "       [<AxesSubplot:title={'center':'capital_gains'}>,\n",
       "        <AxesSubplot:title={'center':'capital_losses'}>,\n",
       "        <AxesSubplot:title={'center':'dividend_from_Stocks'}>,\n",
       "        <AxesSubplot:title={'center':'num_person_Worked_employer'}>],\n",
       "       [<AxesSubplot:title={'center':'business_or_self_employed'}>,\n",
       "        <AxesSubplot:title={'center':'veterans_benefits'}>,\n",
       "        <AxesSubplot:title={'center':'weeks_worked_in_year'}>,\n",
       "        <AxesSubplot:title={'center':'year'}>],\n",
       "       [<AxesSubplot:title={'center':'income_level'}>, <AxesSubplot:>,\n",
       "        <AxesSubplot:>, <AxesSubplot:>]], dtype=object)"
      ]
     },
     "execution_count": 103,
     "metadata": {},
     "output_type": "execute_result"
    },
    {
     "data": {
      "image/png": "[encoded data removed]",
      "text/plain": [
       "<Figure size 1440x720 with 16 Axes>"
      ]
     },
     "metadata": {
      "needs_background": "light"
     },
     "output_type": "display_data"
    }
   ],
   "source": [
    "df.hist(bins=50,figsize=(20,10))"
   ]
  },
  {
   "cell_type": "code",
   "execution_count": 266,
   "id": "59a3027e",
   "metadata": {},
   "outputs": [
    {
     "data": {
      "text/plain": [
       "47155"
      ]
     },
     "execution_count": 266,
     "metadata": {},
     "output_type": "execute_result"
    }
   ],
   "source": [
    "dup=df.duplicated()\n",
    "dup.sum()"
   ]
  },
  {
   "cell_type": "code",
   "execution_count": 267,
   "id": "185a5080",
   "metadata": {},
   "outputs": [
    {
     "data": {
      "text/html": [
       "<div>\n",
       "<style scoped>\n",
       "    .dataframe tbody tr th:only-of-type {\n",
       "        vertical-align: middle;\n",
       "    }\n",
       "\n",
       "    .dataframe tbody tr th {\n",
       "        vertical-align: top;\n",
       "    }\n",
       "\n",
       "    .dataframe thead th {\n",
       "        text-align: right;\n",
       "    }\n",
       "</style>\n",
       "<table border=\"1\" class=\"dataframe\">\n",
       "  <thead>\n",
       "    <tr style=\"text-align: right;\">\n",
       "      <th></th>\n",
       "      <th>age</th>\n",
       "      <th>class_of_worker</th>\n",
       "      <th>industry_code</th>\n",
       "      <th>occupation_code</th>\n",
       "      <th>education</th>\n",
       "      <th>wage_per_hour</th>\n",
       "      <th>enrolled_in_edu_inst_lastwk</th>\n",
       "      <th>marital_status</th>\n",
       "      <th>major_industry_code</th>\n",
       "      <th>major_occupation_code</th>\n",
       "      <th>...</th>\n",
       "      <th>country_father</th>\n",
       "      <th>country_mother</th>\n",
       "      <th>country_self</th>\n",
       "      <th>citizenship</th>\n",
       "      <th>business_or_self_employed</th>\n",
       "      <th>fill_questionnaire_veteran_admin</th>\n",
       "      <th>veterans_benefits</th>\n",
       "      <th>weeks_worked_in_year</th>\n",
       "      <th>year</th>\n",
       "      <th>income_level</th>\n",
       "    </tr>\n",
       "  </thead>\n",
       "  <tbody>\n",
       "    <tr>\n",
       "      <th>121</th>\n",
       "      <td>2</td>\n",
       "      <td>Not in universe</td>\n",
       "      <td>0</td>\n",
       "      <td>0</td>\n",
       "      <td>Children</td>\n",
       "      <td>0</td>\n",
       "      <td>Not in universe</td>\n",
       "      <td>Never married</td>\n",
       "      <td>Not in universe or children</td>\n",
       "      <td>Not in universe</td>\n",
       "      <td>...</td>\n",
       "      <td>United-States</td>\n",
       "      <td>United-States</td>\n",
       "      <td>United-States</td>\n",
       "      <td>Native- Born in the United States</td>\n",
       "      <td>0</td>\n",
       "      <td>Not in universe</td>\n",
       "      <td>0</td>\n",
       "      <td>0</td>\n",
       "      <td>94</td>\n",
       "      <td>-50000</td>\n",
       "    </tr>\n",
       "    <tr>\n",
       "      <th>226</th>\n",
       "      <td>6</td>\n",
       "      <td>Not in universe</td>\n",
       "      <td>0</td>\n",
       "      <td>0</td>\n",
       "      <td>Children</td>\n",
       "      <td>0</td>\n",
       "      <td>Not in universe</td>\n",
       "      <td>Never married</td>\n",
       "      <td>Not in universe or children</td>\n",
       "      <td>Not in universe</td>\n",
       "      <td>...</td>\n",
       "      <td>United-States</td>\n",
       "      <td>United-States</td>\n",
       "      <td>United-States</td>\n",
       "      <td>Native- Born in the United States</td>\n",
       "      <td>0</td>\n",
       "      <td>Not in universe</td>\n",
       "      <td>0</td>\n",
       "      <td>0</td>\n",
       "      <td>94</td>\n",
       "      <td>-50000</td>\n",
       "    </tr>\n",
       "    <tr>\n",
       "      <th>243</th>\n",
       "      <td>3</td>\n",
       "      <td>Not in universe</td>\n",
       "      <td>0</td>\n",
       "      <td>0</td>\n",
       "      <td>Children</td>\n",
       "      <td>0</td>\n",
       "      <td>Not in universe</td>\n",
       "      <td>Never married</td>\n",
       "      <td>Not in universe or children</td>\n",
       "      <td>Not in universe</td>\n",
       "      <td>...</td>\n",
       "      <td>United-States</td>\n",
       "      <td>United-States</td>\n",
       "      <td>United-States</td>\n",
       "      <td>Native- Born in the United States</td>\n",
       "      <td>0</td>\n",
       "      <td>Not in universe</td>\n",
       "      <td>0</td>\n",
       "      <td>0</td>\n",
       "      <td>94</td>\n",
       "      <td>-50000</td>\n",
       "    </tr>\n",
       "    <tr>\n",
       "      <th>305</th>\n",
       "      <td>10</td>\n",
       "      <td>Not in universe</td>\n",
       "      <td>0</td>\n",
       "      <td>0</td>\n",
       "      <td>Children</td>\n",
       "      <td>0</td>\n",
       "      <td>Not in universe</td>\n",
       "      <td>Never married</td>\n",
       "      <td>Not in universe or children</td>\n",
       "      <td>Not in universe</td>\n",
       "      <td>...</td>\n",
       "      <td>United-States</td>\n",
       "      <td>United-States</td>\n",
       "      <td>United-States</td>\n",
       "      <td>Native- Born in the United States</td>\n",
       "      <td>0</td>\n",
       "      <td>Not in universe</td>\n",
       "      <td>0</td>\n",
       "      <td>0</td>\n",
       "      <td>95</td>\n",
       "      <td>-50000</td>\n",
       "    </tr>\n",
       "    <tr>\n",
       "      <th>344</th>\n",
       "      <td>1</td>\n",
       "      <td>Not in universe</td>\n",
       "      <td>0</td>\n",
       "      <td>0</td>\n",
       "      <td>Children</td>\n",
       "      <td>0</td>\n",
       "      <td>Not in universe</td>\n",
       "      <td>Never married</td>\n",
       "      <td>Not in universe or children</td>\n",
       "      <td>Not in universe</td>\n",
       "      <td>...</td>\n",
       "      <td>United-States</td>\n",
       "      <td>United-States</td>\n",
       "      <td>United-States</td>\n",
       "      <td>Native- Born in the United States</td>\n",
       "      <td>0</td>\n",
       "      <td>Not in universe</td>\n",
       "      <td>0</td>\n",
       "      <td>0</td>\n",
       "      <td>95</td>\n",
       "      <td>-50000</td>\n",
       "    </tr>\n",
       "    <tr>\n",
       "      <th>...</th>\n",
       "      <td>...</td>\n",
       "      <td>...</td>\n",
       "      <td>...</td>\n",
       "      <td>...</td>\n",
       "      <td>...</td>\n",
       "      <td>...</td>\n",
       "      <td>...</td>\n",
       "      <td>...</td>\n",
       "      <td>...</td>\n",
       "      <td>...</td>\n",
       "      <td>...</td>\n",
       "      <td>...</td>\n",
       "      <td>...</td>\n",
       "      <td>...</td>\n",
       "      <td>...</td>\n",
       "      <td>...</td>\n",
       "      <td>...</td>\n",
       "      <td>...</td>\n",
       "      <td>...</td>\n",
       "      <td>...</td>\n",
       "      <td>...</td>\n",
       "    </tr>\n",
       "    <tr>\n",
       "      <th>199496</th>\n",
       "      <td>1</td>\n",
       "      <td>Not in universe</td>\n",
       "      <td>0</td>\n",
       "      <td>0</td>\n",
       "      <td>Children</td>\n",
       "      <td>0</td>\n",
       "      <td>Not in universe</td>\n",
       "      <td>Never married</td>\n",
       "      <td>Not in universe or children</td>\n",
       "      <td>Not in universe</td>\n",
       "      <td>...</td>\n",
       "      <td>United-States</td>\n",
       "      <td>United-States</td>\n",
       "      <td>United-States</td>\n",
       "      <td>Native- Born in the United States</td>\n",
       "      <td>0</td>\n",
       "      <td>Not in universe</td>\n",
       "      <td>0</td>\n",
       "      <td>0</td>\n",
       "      <td>94</td>\n",
       "      <td>-50000</td>\n",
       "    </tr>\n",
       "    <tr>\n",
       "      <th>199501</th>\n",
       "      <td>13</td>\n",
       "      <td>Not in universe</td>\n",
       "      <td>0</td>\n",
       "      <td>0</td>\n",
       "      <td>Children</td>\n",
       "      <td>0</td>\n",
       "      <td>Not in universe</td>\n",
       "      <td>Never married</td>\n",
       "      <td>Not in universe or children</td>\n",
       "      <td>Not in universe</td>\n",
       "      <td>...</td>\n",
       "      <td>United-States</td>\n",
       "      <td>United-States</td>\n",
       "      <td>United-States</td>\n",
       "      <td>Native- Born in the United States</td>\n",
       "      <td>0</td>\n",
       "      <td>Not in universe</td>\n",
       "      <td>0</td>\n",
       "      <td>0</td>\n",
       "      <td>94</td>\n",
       "      <td>-50000</td>\n",
       "    </tr>\n",
       "    <tr>\n",
       "      <th>199506</th>\n",
       "      <td>14</td>\n",
       "      <td>Not in universe</td>\n",
       "      <td>0</td>\n",
       "      <td>0</td>\n",
       "      <td>Children</td>\n",
       "      <td>0</td>\n",
       "      <td>Not in universe</td>\n",
       "      <td>Never married</td>\n",
       "      <td>Not in universe or children</td>\n",
       "      <td>Not in universe</td>\n",
       "      <td>...</td>\n",
       "      <td>United-States</td>\n",
       "      <td>United-States</td>\n",
       "      <td>United-States</td>\n",
       "      <td>Native- Born in the United States</td>\n",
       "      <td>0</td>\n",
       "      <td>Not in universe</td>\n",
       "      <td>0</td>\n",
       "      <td>0</td>\n",
       "      <td>94</td>\n",
       "      <td>-50000</td>\n",
       "    </tr>\n",
       "    <tr>\n",
       "      <th>199512</th>\n",
       "      <td>71</td>\n",
       "      <td>Not in universe</td>\n",
       "      <td>0</td>\n",
       "      <td>0</td>\n",
       "      <td>High school graduate</td>\n",
       "      <td>0</td>\n",
       "      <td>Not in universe</td>\n",
       "      <td>Married-civilian spouse present</td>\n",
       "      <td>Not in universe or children</td>\n",
       "      <td>Not in universe</td>\n",
       "      <td>...</td>\n",
       "      <td>United-States</td>\n",
       "      <td>United-States</td>\n",
       "      <td>United-States</td>\n",
       "      <td>Native- Born in the United States</td>\n",
       "      <td>0</td>\n",
       "      <td>Not in universe</td>\n",
       "      <td>2</td>\n",
       "      <td>0</td>\n",
       "      <td>95</td>\n",
       "      <td>-50000</td>\n",
       "    </tr>\n",
       "    <tr>\n",
       "      <th>199521</th>\n",
       "      <td>16</td>\n",
       "      <td>Not in universe</td>\n",
       "      <td>0</td>\n",
       "      <td>0</td>\n",
       "      <td>10th grade</td>\n",
       "      <td>0</td>\n",
       "      <td>High school</td>\n",
       "      <td>Never married</td>\n",
       "      <td>Not in universe or children</td>\n",
       "      <td>Not in universe</td>\n",
       "      <td>...</td>\n",
       "      <td>United-States</td>\n",
       "      <td>United-States</td>\n",
       "      <td>United-States</td>\n",
       "      <td>Native- Born in the United States</td>\n",
       "      <td>0</td>\n",
       "      <td>Not in universe</td>\n",
       "      <td>2</td>\n",
       "      <td>0</td>\n",
       "      <td>95</td>\n",
       "      <td>-50000</td>\n",
       "    </tr>\n",
       "  </tbody>\n",
       "</table>\n",
       "<p>47155 rows × 37 columns</p>\n",
       "</div>"
      ],
      "text/plain": [
       "        age  class_of_worker  industry_code  occupation_code  \\\n",
       "121       2  Not in universe              0                0   \n",
       "226       6  Not in universe              0                0   \n",
       "243       3  Not in universe              0                0   \n",
       "305      10  Not in universe              0                0   \n",
       "344       1  Not in universe              0                0   \n",
       "...     ...              ...            ...              ...   \n",
       "199496    1  Not in universe              0                0   \n",
       "199501   13  Not in universe              0                0   \n",
       "199506   14  Not in universe              0                0   \n",
       "199512   71  Not in universe              0                0   \n",
       "199521   16  Not in universe              0                0   \n",
       "\n",
       "                   education  wage_per_hour enrolled_in_edu_inst_lastwk  \\\n",
       "121                 Children              0             Not in universe   \n",
       "226                 Children              0             Not in universe   \n",
       "243                 Children              0             Not in universe   \n",
       "305                 Children              0             Not in universe   \n",
       "344                 Children              0             Not in universe   \n",
       "...                      ...            ...                         ...   \n",
       "199496              Children              0             Not in universe   \n",
       "199501              Children              0             Not in universe   \n",
       "199506              Children              0             Not in universe   \n",
       "199512  High school graduate              0             Not in universe   \n",
       "199521            10th grade              0                 High school   \n",
       "\n",
       "                         marital_status          major_industry_code  \\\n",
       "121                       Never married  Not in universe or children   \n",
       "226                       Never married  Not in universe or children   \n",
       "243                       Never married  Not in universe or children   \n",
       "305                       Never married  Not in universe or children   \n",
       "344                       Never married  Not in universe or children   \n",
       "...                                 ...                          ...   \n",
       "199496                    Never married  Not in universe or children   \n",
       "199501                    Never married  Not in universe or children   \n",
       "199506                    Never married  Not in universe or children   \n",
       "199512  Married-civilian spouse present  Not in universe or children   \n",
       "199521                    Never married  Not in universe or children   \n",
       "\n",
       "       major_occupation_code  ... country_father country_mother  \\\n",
       "121          Not in universe  ...  United-States  United-States   \n",
       "226          Not in universe  ...  United-States  United-States   \n",
       "243          Not in universe  ...  United-States  United-States   \n",
       "305          Not in universe  ...  United-States  United-States   \n",
       "344          Not in universe  ...  United-States  United-States   \n",
       "...                      ...  ...            ...            ...   \n",
       "199496       Not in universe  ...  United-States  United-States   \n",
       "199501       Not in universe  ...  United-States  United-States   \n",
       "199506       Not in universe  ...  United-States  United-States   \n",
       "199512       Not in universe  ...  United-States  United-States   \n",
       "199521       Not in universe  ...  United-States  United-States   \n",
       "\n",
       "         country_self                        citizenship  \\\n",
       "121     United-States  Native- Born in the United States   \n",
       "226     United-States  Native- Born in the United States   \n",
       "243     United-States  Native- Born in the United States   \n",
       "305     United-States  Native- Born in the United States   \n",
       "344     United-States  Native- Born in the United States   \n",
       "...               ...                                ...   \n",
       "199496  United-States  Native- Born in the United States   \n",
       "199501  United-States  Native- Born in the United States   \n",
       "199506  United-States  Native- Born in the United States   \n",
       "199512  United-States  Native- Born in the United States   \n",
       "199521  United-States  Native- Born in the United States   \n",
       "\n",
       "       business_or_self_employed fill_questionnaire_veteran_admin  \\\n",
       "121                            0                  Not in universe   \n",
       "226                            0                  Not in universe   \n",
       "243                            0                  Not in universe   \n",
       "305                            0                  Not in universe   \n",
       "344                            0                  Not in universe   \n",
       "...                          ...                              ...   \n",
       "199496                         0                  Not in universe   \n",
       "199501                         0                  Not in universe   \n",
       "199506                         0                  Not in universe   \n",
       "199512                         0                  Not in universe   \n",
       "199521                         0                  Not in universe   \n",
       "\n",
       "        veterans_benefits  weeks_worked_in_year  year income_level  \n",
       "121                     0                     0    94       -50000  \n",
       "226                     0                     0    94       -50000  \n",
       "243                     0                     0    94       -50000  \n",
       "305                     0                     0    95       -50000  \n",
       "344                     0                     0    95       -50000  \n",
       "...                   ...                   ...   ...          ...  \n",
       "199496                  0                     0    94       -50000  \n",
       "199501                  0                     0    94       -50000  \n",
       "199506                  0                     0    94       -50000  \n",
       "199512                  2                     0    95       -50000  \n",
       "199521                  2                     0    95       -50000  \n",
       "\n",
       "[47155 rows x 37 columns]"
      ]
     },
     "execution_count": 267,
     "metadata": {},
     "output_type": "execute_result"
    }
   ],
   "source": [
    "df[dup]"
   ]
  },
  {
   "cell_type": "code",
   "execution_count": 268,
   "id": "ae9e05b7",
   "metadata": {},
   "outputs": [],
   "source": [
    "df.drop_duplicates(inplace=True)"
   ]
  },
  {
   "cell_type": "code",
   "execution_count": 269,
   "id": "ba4831f9",
   "metadata": {},
   "outputs": [
    {
     "data": {
      "text/plain": [
       "0"
      ]
     },
     "execution_count": 269,
     "metadata": {},
     "output_type": "execute_result"
    }
   ],
   "source": [
    "dup=df.duplicated()\n",
    "dup.sum()"
   ]
  },
  {
   "cell_type": "code",
   "execution_count": 112,
   "id": "1ca6034b",
   "metadata": {},
   "outputs": [
    {
     "name": "stdout",
     "output_type": "stream",
     "text": [
      "<class 'pandas.core.frame.DataFrame'>\n",
      "Int64Index: 152368 entries, 0 to 199522\n",
      "Data columns (total 37 columns):\n",
      " #   Column                            Non-Null Count   Dtype \n",
      "---  ------                            --------------   ----- \n",
      " 0   age                               152368 non-null  int64 \n",
      " 1   class_of_worker                   152368 non-null  object\n",
      " 2   industry_code                     152368 non-null  int64 \n",
      " 3   occupation_code                   152368 non-null  int64 \n",
      " 4   education                         152368 non-null  object\n",
      " 5   wage_per_hour                     152368 non-null  int64 \n",
      " 6   enrolled_in_edu_inst_lastwk       152368 non-null  object\n",
      " 7   marital_status                    152368 non-null  object\n",
      " 8   major_industry_code               152368 non-null  object\n",
      " 9   major_occupation_code             152368 non-null  object\n",
      " 10  race                              152368 non-null  object\n",
      " 11  hispanic_origin                   152368 non-null  object\n",
      " 12  sex                               152368 non-null  object\n",
      " 13  member_of_labor_union             152368 non-null  object\n",
      " 14  reason_for_unemployment           152368 non-null  object\n",
      " 15  full_parttime_employment_stat     152368 non-null  object\n",
      " 16  capital_gains                     152368 non-null  int64 \n",
      " 17  capital_losses                    152368 non-null  int64 \n",
      " 18  dividend_from_Stocks              152368 non-null  int64 \n",
      " 19  tax_filer_status                  152368 non-null  object\n",
      " 20  region_of_previous_residence      152368 non-null  object\n",
      " 21  state_of_previous_residence       152368 non-null  object\n",
      " 22  d_household_family_stat           152368 non-null  object\n",
      " 23  d_household_summary               152368 non-null  object\n",
      " 24  live_1_year_ago                   152368 non-null  object\n",
      " 25  num_person_Worked_employer        152368 non-null  int64 \n",
      " 26  family_members_under_18           152368 non-null  object\n",
      " 27  country_father                    152368 non-null  object\n",
      " 28  country_mother                    152368 non-null  object\n",
      " 29  country_self                      152368 non-null  object\n",
      " 30  citizenship                       152368 non-null  object\n",
      " 31  business_or_self_employed         152368 non-null  int64 \n",
      " 32  fill_questionnaire_veteran_admin  152368 non-null  object\n",
      " 33  veterans_benefits                 152368 non-null  int64 \n",
      " 34  weeks_worked_in_year              152368 non-null  int64 \n",
      " 35  year                              152368 non-null  int64 \n",
      " 36  income_level                      152368 non-null  int64 \n",
      "dtypes: int64(13), object(24)\n",
      "memory usage: 44.2+ MB\n"
     ]
    }
   ],
   "source": [
    "df.info()"
   ]
  },
  {
   "cell_type": "code",
   "execution_count": 121,
   "id": "9512eeba",
   "metadata": {},
   "outputs": [
    {
     "data": {
      "text/plain": [
       "<AxesSubplot:>"
      ]
     },
     "execution_count": 121,
     "metadata": {},
     "output_type": "execute_result"
    },
    {
     "data": {
      "image/png": "[encoded data removed]",
      "text/plain": [
       "<Figure size 2160x720 with 1 Axes>"
      ]
     },
     "metadata": {
      "needs_background": "light"
     },
     "output_type": "display_data"
    }
   ],
   "source": [
    "col=['age','industry_code','occupation_code','wage_per_hour','capital_gains','capital_losses','dividend_from_Stocks',\n",
    "    'num_person_Worked_employer','business_or_self_employed','veterans_benefits','weeks_worked_in_year','year','income_level']\n",
    "plt.figure(figsize=(30,10))\n",
    "df.boxplot(column=col)"
   ]
  },
  {
   "cell_type": "code",
   "execution_count": 127,
   "id": "9af22be4",
   "metadata": {},
   "outputs": [
    {
     "data": {
      "text/plain": [
       "<Figure size 2160x720 with 0 Axes>"
      ]
     },
     "execution_count": 127,
     "metadata": {},
     "output_type": "execute_result"
    },
    {
     "data": {
      "image/png": "[encoded data removed]",
      "text/plain": [
       "<Figure size 432x288 with 1 Axes>"
      ]
     },
     "metadata": {
      "needs_background": "light"
     },
     "output_type": "display_data"
    },
    {
     "data": {
      "text/plain": [
       "<Figure size 2160x720 with 0 Axes>"
      ]
     },
     "metadata": {},
     "output_type": "display_data"
    }
   ],
   "source": [
    "df.boxplot(column=['wage_per_hour','capital_gains','capital_losses','dividend_from_Stocks','business_or_self_employed','veterans_benefits'\n",
    "                  ,'income_level'])\n",
    "plt.figure(figsize=(30,10))"
   ]
  },
  {
   "cell_type": "code",
   "execution_count": 129,
   "id": "8736639c",
   "metadata": {},
   "outputs": [
    {
     "data": {
      "text/plain": [
       "<AxesSubplot:>"
      ]
     },
     "execution_count": 129,
     "metadata": {},
     "output_type": "execute_result"
    },
    {
     "data": {
      "image/png": "[encoded data removed]",
      "text/plain": [
       "<Figure size 432x288 with 1 Axes>"
      ]
     },
     "metadata": {
      "needs_background": "light"
     },
     "output_type": "display_data"
    }
   ],
   "source": [
    "df.boxplot('wage_per_hour')"
   ]
  },
  {
   "cell_type": "code",
   "execution_count": 132,
   "id": "dbf692b6",
   "metadata": {},
   "outputs": [
    {
     "data": {
      "text/plain": [
       "(152368, 37)"
      ]
     },
     "execution_count": 132,
     "metadata": {},
     "output_type": "execute_result"
    }
   ],
   "source": [
    "df.wage_per_hour.value_counts()\n",
    "df.shape"
   ]
  },
  {
   "cell_type": "code",
   "execution_count": 133,
   "id": "5adadb8b",
   "metadata": {},
   "outputs": [
    {
     "data": {
      "text/plain": [
       "<matplotlib.collections.PathCollection at 0x18540e0b490>"
      ]
     },
     "execution_count": 133,
     "metadata": {},
     "output_type": "execute_result"
    },
    {
     "data": {
      "image/png": "[encoded data removed]",
      "text/plain": [
       "<Figure size 432x288 with 1 Axes>"
      ]
     },
     "metadata": {
      "needs_background": "light"
     },
     "output_type": "display_data"
    }
   ],
   "source": [
    "plt.scatter(df['wage_per_hour'],df['income_level'])"
   ]
  },
  {
   "cell_type": "code",
   "execution_count": 140,
   "id": "24886849",
   "metadata": {},
   "outputs": [
    {
     "data": {
      "text/plain": [
       "<matplotlib.collections.PathCollection at 0x185434f13a0>"
      ]
     },
     "execution_count": 140,
     "metadata": {},
     "output_type": "execute_result"
    },
    {
     "data": {
      "image/png": "[encoded data removed]",
      "text/plain": [
       "<Figure size 432x288 with 1 Axes>"
      ]
     },
     "metadata": {
      "needs_background": "light"
     },
     "output_type": "display_data"
    }
   ],
   "source": [
    "plt.scatter(df['capital_gains'],df['income_level'])\n",
    "plt.scatter(df['capital_losses'],df['income_level'])\n",
    "plt.scatter(df['dividend_from_Stocks'],df['income_level'])\n",
    "plt.scatter(df['business_or_self_employed'],df['income_level'])\n",
    "plt.scatter(df['veterans_benefits'],df['income_level'])"
   ]
  },
  {
   "cell_type": "code",
   "execution_count": 141,
   "id": "9f411c36",
   "metadata": {},
   "outputs": [
    {
     "data": {
      "text/plain": [
       "0       131288\n",
       "100       1144\n",
       "500       1025\n",
       "1000       888\n",
       "200        860\n",
       "         ...  \n",
       "4058         1\n",
       "1755         1\n",
       "2730         1\n",
       "475          1\n",
       "930          1\n",
       "Name: dividend_from_Stocks, Length: 1478, dtype: int64"
      ]
     },
     "execution_count": 141,
     "metadata": {},
     "output_type": "execute_result"
    }
   ],
   "source": [
    "df.dividend_from_Stocks.value_counts()"
   ]
  },
  {
   "cell_type": "code",
   "execution_count": 142,
   "id": "cb449581",
   "metadata": {},
   "outputs": [
    {
     "data": {
      "text/plain": [
       "0        144994\n",
       "15024       788\n",
       "7688        609\n",
       "7298        582\n",
       "99999       390\n",
       "          ...  \n",
       "1140          1\n",
       "6612          1\n",
       "8530          1\n",
       "9472          1\n",
       "2387          1\n",
       "Name: capital_gains, Length: 132, dtype: int64"
      ]
     },
     "execution_count": 142,
     "metadata": {},
     "output_type": "execute_result"
    }
   ],
   "source": [
    "df.capital_gains.value_counts()"
   ]
  },
  {
   "cell_type": "code",
   "execution_count": 143,
   "id": "5b61a236",
   "metadata": {},
   "outputs": [
    {
     "data": {
      "text/plain": [
       "0       148463\n",
       "1902       407\n",
       "1977       381\n",
       "1887       364\n",
       "1602       193\n",
       "         ...  \n",
       "3900         2\n",
       "2080         1\n",
       "1911         1\n",
       "155          1\n",
       "2519         1\n",
       "Name: capital_losses, Length: 113, dtype: int64"
      ]
     },
     "execution_count": 143,
     "metadata": {},
     "output_type": "execute_result"
    }
   ],
   "source": [
    "df.capital_losses.value_counts()"
   ]
  },
  {
   "cell_type": "code",
   "execution_count": 148,
   "id": "e4beaf30",
   "metadata": {},
   "outputs": [
    {
     "name": "stderr",
     "output_type": "stream",
     "text": [
      "c:\\users\\hp\\appdata\\local\\programs\\python\\python39\\lib\\site-packages\\seaborn\\distributions.py:2557: FutureWarning: `distplot` is a deprecated function and will be removed in a future version. Please adapt your code to use either `displot` (a figure-level function with similar flexibility) or `histplot` (an axes-level function for histograms).\n",
      "  warnings.warn(msg, FutureWarning)\n"
     ]
    },
    {
     "data": {
      "text/plain": [
       "<AxesSubplot:xlabel='age', ylabel='Density'>"
      ]
     },
     "execution_count": 148,
     "metadata": {},
     "output_type": "execute_result"
    },
    {
     "data": {
      "image/png": "[encoded data removed]",
      "text/plain": [
       "<Figure size 432x288 with 1 Axes>"
      ]
     },
     "metadata": {
      "needs_background": "light"
     },
     "output_type": "display_data"
    }
   ],
   "source": [
    "sns.distplot(df['age'])\n",
    "#normally distributed data"
   ]
  },
  {
   "cell_type": "code",
   "execution_count": 151,
   "id": "393ece3c",
   "metadata": {},
   "outputs": [
    {
     "data": {
      "text/html": [
       "<div>\n",
       "<style scoped>\n",
       "    .dataframe tbody tr th:only-of-type {\n",
       "        vertical-align: middle;\n",
       "    }\n",
       "\n",
       "    .dataframe tbody tr th {\n",
       "        vertical-align: top;\n",
       "    }\n",
       "\n",
       "    .dataframe thead th {\n",
       "        text-align: right;\n",
       "    }\n",
       "</style>\n",
       "<table border=\"1\" class=\"dataframe\">\n",
       "  <thead>\n",
       "    <tr style=\"text-align: right;\">\n",
       "      <th></th>\n",
       "      <th>age</th>\n",
       "      <th>industry_code</th>\n",
       "      <th>occupation_code</th>\n",
       "      <th>wage_per_hour</th>\n",
       "      <th>capital_gains</th>\n",
       "      <th>capital_losses</th>\n",
       "      <th>dividend_from_Stocks</th>\n",
       "      <th>num_person_Worked_employer</th>\n",
       "      <th>business_or_self_employed</th>\n",
       "      <th>veterans_benefits</th>\n",
       "      <th>weeks_worked_in_year</th>\n",
       "      <th>year</th>\n",
       "      <th>income_level</th>\n",
       "    </tr>\n",
       "  </thead>\n",
       "  <tbody>\n",
       "    <tr>\n",
       "      <th>age</th>\n",
       "      <td>1.000000</td>\n",
       "      <td>-0.065867</td>\n",
       "      <td>-0.099714</td>\n",
       "      <td>-0.014831</td>\n",
       "      <td>0.040996</td>\n",
       "      <td>0.039643</td>\n",
       "      <td>0.105794</td>\n",
       "      <td>-0.081331</td>\n",
       "      <td>-0.103099</td>\n",
       "      <td>0.465598</td>\n",
       "      <td>-0.030516</td>\n",
       "      <td>0.027535</td>\n",
       "      <td>0.097556</td>\n",
       "    </tr>\n",
       "    <tr>\n",
       "      <th>industry_code</th>\n",
       "      <td>-0.065867</td>\n",
       "      <td>1.000000</td>\n",
       "      <td>0.454685</td>\n",
       "      <td>0.130079</td>\n",
       "      <td>0.047880</td>\n",
       "      <td>0.042434</td>\n",
       "      <td>-0.014327</td>\n",
       "      <td>0.546716</td>\n",
       "      <td>0.196948</td>\n",
       "      <td>0.329309</td>\n",
       "      <td>0.678155</td>\n",
       "      <td>0.021170</td>\n",
       "      <td>0.148792</td>\n",
       "    </tr>\n",
       "    <tr>\n",
       "      <th>occupation_code</th>\n",
       "      <td>-0.099714</td>\n",
       "      <td>0.454685</td>\n",
       "      <td>1.000000</td>\n",
       "      <td>0.164144</td>\n",
       "      <td>-0.021509</td>\n",
       "      <td>0.012618</td>\n",
       "      <td>-0.055662</td>\n",
       "      <td>0.400163</td>\n",
       "      <td>0.173834</td>\n",
       "      <td>0.296734</td>\n",
       "      <td>0.560020</td>\n",
       "      <td>0.011049</td>\n",
       "      <td>-0.053089</td>\n",
       "    </tr>\n",
       "    <tr>\n",
       "      <th>wage_per_hour</th>\n",
       "      <td>-0.014831</td>\n",
       "      <td>0.130079</td>\n",
       "      <td>0.164144</td>\n",
       "      <td>1.000000</td>\n",
       "      <td>-0.006905</td>\n",
       "      <td>0.002478</td>\n",
       "      <td>-0.011968</td>\n",
       "      <td>0.159975</td>\n",
       "      <td>0.035181</td>\n",
       "      <td>0.069708</td>\n",
       "      <td>0.163201</td>\n",
       "      <td>0.006256</td>\n",
       "      <td>0.008714</td>\n",
       "    </tr>\n",
       "    <tr>\n",
       "      <th>capital_gains</th>\n",
       "      <td>0.040996</td>\n",
       "      <td>0.047880</td>\n",
       "      <td>-0.021509</td>\n",
       "      <td>-0.006905</td>\n",
       "      <td>1.000000</td>\n",
       "      <td>-0.016701</td>\n",
       "      <td>0.129131</td>\n",
       "      <td>0.039367</td>\n",
       "      <td>0.006145</td>\n",
       "      <td>0.031165</td>\n",
       "      <td>0.067168</td>\n",
       "      <td>0.007664</td>\n",
       "      <td>0.236269</td>\n",
       "    </tr>\n",
       "    <tr>\n",
       "      <th>capital_losses</th>\n",
       "      <td>0.039643</td>\n",
       "      <td>0.042434</td>\n",
       "      <td>0.012618</td>\n",
       "      <td>0.002478</td>\n",
       "      <td>-0.016701</td>\n",
       "      <td>1.000000</td>\n",
       "      <td>0.038487</td>\n",
       "      <td>0.056583</td>\n",
       "      <td>0.010998</td>\n",
       "      <td>0.044473</td>\n",
       "      <td>0.072629</td>\n",
       "      <td>0.002663</td>\n",
       "      <td>0.138564</td>\n",
       "    </tr>\n",
       "    <tr>\n",
       "      <th>dividend_from_Stocks</th>\n",
       "      <td>0.105794</td>\n",
       "      <td>-0.014327</td>\n",
       "      <td>-0.055662</td>\n",
       "      <td>-0.011968</td>\n",
       "      <td>0.129131</td>\n",
       "      <td>0.038487</td>\n",
       "      <td>1.000000</td>\n",
       "      <td>-0.019656</td>\n",
       "      <td>-0.014738</td>\n",
       "      <td>0.031952</td>\n",
       "      <td>-0.016919</td>\n",
       "      <td>0.003795</td>\n",
       "      <td>0.170217</td>\n",
       "    </tr>\n",
       "    <tr>\n",
       "      <th>num_person_Worked_employer</th>\n",
       "      <td>-0.081331</td>\n",
       "      <td>0.546716</td>\n",
       "      <td>0.400163</td>\n",
       "      <td>0.159975</td>\n",
       "      <td>0.039367</td>\n",
       "      <td>0.056583</td>\n",
       "      <td>-0.019656</td>\n",
       "      <td>1.000000</td>\n",
       "      <td>0.184471</td>\n",
       "      <td>0.316961</td>\n",
       "      <td>0.671853</td>\n",
       "      <td>0.039508</td>\n",
       "      <td>0.180340</td>\n",
       "    </tr>\n",
       "    <tr>\n",
       "      <th>business_or_self_employed</th>\n",
       "      <td>-0.103099</td>\n",
       "      <td>0.196948</td>\n",
       "      <td>0.173834</td>\n",
       "      <td>0.035181</td>\n",
       "      <td>0.006145</td>\n",
       "      <td>0.010998</td>\n",
       "      <td>-0.014738</td>\n",
       "      <td>0.184471</td>\n",
       "      <td>1.000000</td>\n",
       "      <td>0.109997</td>\n",
       "      <td>0.208973</td>\n",
       "      <td>0.014143</td>\n",
       "      <td>0.015897</td>\n",
       "    </tr>\n",
       "    <tr>\n",
       "      <th>veterans_benefits</th>\n",
       "      <td>0.465598</td>\n",
       "      <td>0.329309</td>\n",
       "      <td>0.296734</td>\n",
       "      <td>0.069708</td>\n",
       "      <td>0.031165</td>\n",
       "      <td>0.044473</td>\n",
       "      <td>0.031952</td>\n",
       "      <td>0.316961</td>\n",
       "      <td>0.109997</td>\n",
       "      <td>1.000000</td>\n",
       "      <td>0.380665</td>\n",
       "      <td>0.044257</td>\n",
       "      <td>0.083237</td>\n",
       "    </tr>\n",
       "    <tr>\n",
       "      <th>weeks_worked_in_year</th>\n",
       "      <td>-0.030516</td>\n",
       "      <td>0.678155</td>\n",
       "      <td>0.560020</td>\n",
       "      <td>0.163201</td>\n",
       "      <td>0.067168</td>\n",
       "      <td>0.072629</td>\n",
       "      <td>-0.016919</td>\n",
       "      <td>0.671853</td>\n",
       "      <td>0.208973</td>\n",
       "      <td>0.380665</td>\n",
       "      <td>1.000000</td>\n",
       "      <td>0.025725</td>\n",
       "      <td>0.224042</td>\n",
       "    </tr>\n",
       "    <tr>\n",
       "      <th>year</th>\n",
       "      <td>0.027535</td>\n",
       "      <td>0.021170</td>\n",
       "      <td>0.011049</td>\n",
       "      <td>0.006256</td>\n",
       "      <td>0.007664</td>\n",
       "      <td>0.002663</td>\n",
       "      <td>0.003795</td>\n",
       "      <td>0.039508</td>\n",
       "      <td>0.014143</td>\n",
       "      <td>0.044257</td>\n",
       "      <td>0.025725</td>\n",
       "      <td>1.000000</td>\n",
       "      <td>0.021735</td>\n",
       "    </tr>\n",
       "    <tr>\n",
       "      <th>income_level</th>\n",
       "      <td>0.097556</td>\n",
       "      <td>0.148792</td>\n",
       "      <td>-0.053089</td>\n",
       "      <td>0.008714</td>\n",
       "      <td>0.236269</td>\n",
       "      <td>0.138564</td>\n",
       "      <td>0.170217</td>\n",
       "      <td>0.180340</td>\n",
       "      <td>0.015897</td>\n",
       "      <td>0.083237</td>\n",
       "      <td>0.224042</td>\n",
       "      <td>0.021735</td>\n",
       "      <td>1.000000</td>\n",
       "    </tr>\n",
       "  </tbody>\n",
       "</table>\n",
       "</div>"
      ],
      "text/plain": [
       "                                 age  industry_code  occupation_code  \\\n",
       "age                         1.000000      -0.065867        -0.099714   \n",
       "industry_code              -0.065867       1.000000         0.454685   \n",
       "occupation_code            -0.099714       0.454685         1.000000   \n",
       "wage_per_hour              -0.014831       0.130079         0.164144   \n",
       "capital_gains               0.040996       0.047880        -0.021509   \n",
       "capital_losses              0.039643       0.042434         0.012618   \n",
       "dividend_from_Stocks        0.105794      -0.014327        -0.055662   \n",
       "num_person_Worked_employer -0.081331       0.546716         0.400163   \n",
       "business_or_self_employed  -0.103099       0.196948         0.173834   \n",
       "veterans_benefits           0.465598       0.329309         0.296734   \n",
       "weeks_worked_in_year       -0.030516       0.678155         0.560020   \n",
       "year                        0.027535       0.021170         0.011049   \n",
       "income_level                0.097556       0.148792        -0.053089   \n",
       "\n",
       "                            wage_per_hour  capital_gains  capital_losses  \\\n",
       "age                             -0.014831       0.040996        0.039643   \n",
       "industry_code                    0.130079       0.047880        0.042434   \n",
       "occupation_code                  0.164144      -0.021509        0.012618   \n",
       "wage_per_hour                    1.000000      -0.006905        0.002478   \n",
       "capital_gains                   -0.006905       1.000000       -0.016701   \n",
       "capital_losses                   0.002478      -0.016701        1.000000   \n",
       "dividend_from_Stocks            -0.011968       0.129131        0.038487   \n",
       "num_person_Worked_employer       0.159975       0.039367        0.056583   \n",
       "business_or_self_employed        0.035181       0.006145        0.010998   \n",
       "veterans_benefits                0.069708       0.031165        0.044473   \n",
       "weeks_worked_in_year             0.163201       0.067168        0.072629   \n",
       "year                             0.006256       0.007664        0.002663   \n",
       "income_level                     0.008714       0.236269        0.138564   \n",
       "\n",
       "                            dividend_from_Stocks  num_person_Worked_employer  \\\n",
       "age                                     0.105794                   -0.081331   \n",
       "industry_code                          -0.014327                    0.546716   \n",
       "occupation_code                        -0.055662                    0.400163   \n",
       "wage_per_hour                          -0.011968                    0.159975   \n",
       "capital_gains                           0.129131                    0.039367   \n",
       "capital_losses                          0.038487                    0.056583   \n",
       "dividend_from_Stocks                    1.000000                   -0.019656   \n",
       "num_person_Worked_employer             -0.019656                    1.000000   \n",
       "business_or_self_employed              -0.014738                    0.184471   \n",
       "veterans_benefits                       0.031952                    0.316961   \n",
       "weeks_worked_in_year                   -0.016919                    0.671853   \n",
       "year                                    0.003795                    0.039508   \n",
       "income_level                            0.170217                    0.180340   \n",
       "\n",
       "                            business_or_self_employed  veterans_benefits  \\\n",
       "age                                         -0.103099           0.465598   \n",
       "industry_code                                0.196948           0.329309   \n",
       "occupation_code                              0.173834           0.296734   \n",
       "wage_per_hour                                0.035181           0.069708   \n",
       "capital_gains                                0.006145           0.031165   \n",
       "capital_losses                               0.010998           0.044473   \n",
       "dividend_from_Stocks                        -0.014738           0.031952   \n",
       "num_person_Worked_employer                   0.184471           0.316961   \n",
       "business_or_self_employed                    1.000000           0.109997   \n",
       "veterans_benefits                            0.109997           1.000000   \n",
       "weeks_worked_in_year                         0.208973           0.380665   \n",
       "year                                         0.014143           0.044257   \n",
       "income_level                                 0.015897           0.083237   \n",
       "\n",
       "                            weeks_worked_in_year      year  income_level  \n",
       "age                                    -0.030516  0.027535      0.097556  \n",
       "industry_code                           0.678155  0.021170      0.148792  \n",
       "occupation_code                         0.560020  0.011049     -0.053089  \n",
       "wage_per_hour                           0.163201  0.006256      0.008714  \n",
       "capital_gains                           0.067168  0.007664      0.236269  \n",
       "capital_losses                          0.072629  0.002663      0.138564  \n",
       "dividend_from_Stocks                   -0.016919  0.003795      0.170217  \n",
       "num_person_Worked_employer              0.671853  0.039508      0.180340  \n",
       "business_or_self_employed               0.208973  0.014143      0.015897  \n",
       "veterans_benefits                       0.380665  0.044257      0.083237  \n",
       "weeks_worked_in_year                    1.000000  0.025725      0.224042  \n",
       "year                                    0.025725  1.000000      0.021735  \n",
       "income_level                            0.224042  0.021735      1.000000  "
      ]
     },
     "execution_count": 151,
     "metadata": {},
     "output_type": "execute_result"
    }
   ],
   "source": [
    "df.corr()"
   ]
  },
  {
   "cell_type": "code",
   "execution_count": 157,
   "id": "bb3a0e76",
   "metadata": {},
   "outputs": [
    {
     "data": {
      "text/plain": [
       "<AxesSubplot:>"
      ]
     },
     "execution_count": 157,
     "metadata": {},
     "output_type": "execute_result"
    },
    {
     "data": {
      "image/png": "[encoded data removed]",
      "text/plain": [
       "<Figure size 1440x720 with 2 Axes>"
      ]
     },
     "metadata": {
      "needs_background": "light"
     },
     "output_type": "display_data"
    }
   ],
   "source": [
    "plt.figure(figsize=(20,10))\n",
    "sns.heatmap(df.corr(),annot=True,cmap='RdBu')\n"
   ]
  },
  {
   "cell_type": "code",
   "execution_count": 174,
   "id": "d86c8248",
   "metadata": {},
   "outputs": [
    {
     "data": {
      "text/plain": [
       "<Figure size 7200x7200 with 0 Axes>"
      ]
     },
     "execution_count": 174,
     "metadata": {},
     "output_type": "execute_result"
    },
    {
     "data": {
      "image/png": "[encoded data removed]",
      "text/plain": [
       "<Figure size 432x288 with 6 Axes>"
      ]
     },
     "metadata": {
      "needs_background": "light"
     },
     "output_type": "display_data"
    },
    {
     "data": {
      "text/plain": [
       "<Figure size 7200x7200 with 0 Axes>"
      ]
     },
     "metadata": {},
     "output_type": "display_data"
    }
   ],
   "source": [
    "df.boxplot(column=['wage_per_hour','capital_gains','capital_losses','dividend_from_Stocks','business_or_self_employed',\n",
    "                   'veterans_benefits'],by='income_level')\n",
    "plt.figure(figsize=(100,100))"
   ]
  },
  {
   "cell_type": "code",
   "execution_count": null,
   "id": "7f6cbdcf",
   "metadata": {},
   "outputs": [],
   "source": [
    "#plt.bar(df['class_of_worker'],df['income_level'])"
   ]
  },
  {
   "cell_type": "code",
   "execution_count": 177,
   "id": "2bf1519b",
   "metadata": {},
   "outputs": [
    {
     "data": {
      "text/plain": [
       "<AxesSubplot:title={'center':'Class of Workers'}>"
      ]
     },
     "execution_count": 177,
     "metadata": {},
     "output_type": "execute_result"
    },
    {
     "data": {
      "image/png": "[encoded data removed]",
      "text/plain": [
       "<Figure size 1152x648 with 1 Axes>"
      ]
     },
     "metadata": {
      "needs_background": "light"
     },
     "output_type": "display_data"
    }
   ],
   "source": [
    "df['class_of_worker'].value_counts().plot(kind='bar', title='Class of Workers', figsize=(16,9))"
   ]
  },
  {
   "cell_type": "code",
   "execution_count": 178,
   "id": "ea3c264e",
   "metadata": {},
   "outputs": [
    {
     "data": {
      "text/plain": [
       "<AxesSubplot:title={'center':'Class of Workers'}>"
      ]
     },
     "execution_count": 178,
     "metadata": {},
     "output_type": "execute_result"
    },
    {
     "data": {
      "image/png": "[encoded data removed]",
      "text/plain": [
       "<Figure size 1152x648 with 1 Axes>"
      ]
     },
     "metadata": {
      "needs_background": "light"
     },
     "output_type": "display_data"
    }
   ],
   "source": [
    "df['education'].value_counts().plot(kind='bar', title='Class of Workers', figsize=(16,9))"
   ]
  },
  {
   "cell_type": "code",
   "execution_count": 179,
   "id": "9202c0bd",
   "metadata": {},
   "outputs": [
    {
     "name": "stdout",
     "output_type": "stream",
     "text": [
      "<class 'pandas.core.frame.DataFrame'>\n",
      "Int64Index: 152368 entries, 0 to 199522\n",
      "Data columns (total 37 columns):\n",
      " #   Column                            Non-Null Count   Dtype \n",
      "---  ------                            --------------   ----- \n",
      " 0   age                               152368 non-null  int64 \n",
      " 1   class_of_worker                   152368 non-null  object\n",
      " 2   industry_code                     152368 non-null  int64 \n",
      " 3   occupation_code                   152368 non-null  int64 \n",
      " 4   education                         152368 non-null  object\n",
      " 5   wage_per_hour                     152368 non-null  int64 \n",
      " 6   enrolled_in_edu_inst_lastwk       152368 non-null  object\n",
      " 7   marital_status                    152368 non-null  object\n",
      " 8   major_industry_code               152368 non-null  object\n",
      " 9   major_occupation_code             152368 non-null  object\n",
      " 10  race                              152368 non-null  object\n",
      " 11  hispanic_origin                   152368 non-null  object\n",
      " 12  sex                               152368 non-null  object\n",
      " 13  member_of_labor_union             152368 non-null  object\n",
      " 14  reason_for_unemployment           152368 non-null  object\n",
      " 15  full_parttime_employment_stat     152368 non-null  object\n",
      " 16  capital_gains                     152368 non-null  int64 \n",
      " 17  capital_losses                    152368 non-null  int64 \n",
      " 18  dividend_from_Stocks              152368 non-null  int64 \n",
      " 19  tax_filer_status                  152368 non-null  object\n",
      " 20  region_of_previous_residence      152368 non-null  object\n",
      " 21  state_of_previous_residence       152368 non-null  object\n",
      " 22  d_household_family_stat           152368 non-null  object\n",
      " 23  d_household_summary               152368 non-null  object\n",
      " 24  live_1_year_ago                   152368 non-null  object\n",
      " 25  num_person_Worked_employer        152368 non-null  int64 \n",
      " 26  family_members_under_18           152368 non-null  object\n",
      " 27  country_father                    152368 non-null  object\n",
      " 28  country_mother                    152368 non-null  object\n",
      " 29  country_self                      152368 non-null  object\n",
      " 30  citizenship                       152368 non-null  object\n",
      " 31  business_or_self_employed         152368 non-null  int64 \n",
      " 32  fill_questionnaire_veteran_admin  152368 non-null  object\n",
      " 33  veterans_benefits                 152368 non-null  int64 \n",
      " 34  weeks_worked_in_year              152368 non-null  int64 \n",
      " 35  year                              152368 non-null  int64 \n",
      " 36  income_level                      152368 non-null  int64 \n",
      "dtypes: int64(13), object(24)\n",
      "memory usage: 44.2+ MB\n"
     ]
    }
   ],
   "source": [
    "df.info()"
   ]
  },
  {
   "cell_type": "code",
   "execution_count": 180,
   "id": "8fdf3667",
   "metadata": {},
   "outputs": [
    {
     "data": {
      "text/plain": [
       "<AxesSubplot:>"
      ]
     },
     "execution_count": 180,
     "metadata": {},
     "output_type": "execute_result"
    },
    {
     "data": {
      "image/png": "[encoded data removed]",
      "text/plain": [
       "<Figure size 1152x648 with 1 Axes>"
      ]
     },
     "metadata": {
      "needs_background": "light"
     },
     "output_type": "display_data"
    }
   ],
   "source": [
    "df['sex'].value_counts().plot(kind='bar',  figsize=(16,9))"
   ]
  },
  {
   "cell_type": "code",
   "execution_count": 181,
   "id": "09443d89",
   "metadata": {},
   "outputs": [
    {
     "data": {
      "text/plain": [
       "(0.0, 55000.0)"
      ]
     },
     "execution_count": 181,
     "metadata": {},
     "output_type": "execute_result"
    },
    {
     "data": {
      "image/png": "[encoded data removed]",
      "text/plain": [
       "<Figure size 432x288 with 1 Axes>"
      ]
     },
     "metadata": {
      "needs_background": "light"
     },
     "output_type": "display_data"
    }
   ],
   "source": [
    "sns.regplot(x = 'age', y = 'income_level', data = df)\n",
    "plt.ylim(0, )"
   ]
  },
  {
   "cell_type": "code",
   "execution_count": 270,
   "id": "322250de",
   "metadata": {},
   "outputs": [
    {
     "data": {
      "text/html": [
       "<div>\n",
       "<style scoped>\n",
       "    .dataframe tbody tr th:only-of-type {\n",
       "        vertical-align: middle;\n",
       "    }\n",
       "\n",
       "    .dataframe tbody tr th {\n",
       "        vertical-align: top;\n",
       "    }\n",
       "\n",
       "    .dataframe thead th {\n",
       "        text-align: right;\n",
       "    }\n",
       "</style>\n",
       "<table border=\"1\" class=\"dataframe\">\n",
       "  <thead>\n",
       "    <tr style=\"text-align: right;\">\n",
       "      <th></th>\n",
       "      <th>age</th>\n",
       "      <th>income_level</th>\n",
       "    </tr>\n",
       "  </thead>\n",
       "  <tbody>\n",
       "    <tr>\n",
       "      <th>0</th>\n",
       "      <td>73</td>\n",
       "      <td>-50000</td>\n",
       "    </tr>\n",
       "    <tr>\n",
       "      <th>1</th>\n",
       "      <td>58</td>\n",
       "      <td>-50000</td>\n",
       "    </tr>\n",
       "    <tr>\n",
       "      <th>2</th>\n",
       "      <td>18</td>\n",
       "      <td>-50000</td>\n",
       "    </tr>\n",
       "    <tr>\n",
       "      <th>3</th>\n",
       "      <td>9</td>\n",
       "      <td>-50000</td>\n",
       "    </tr>\n",
       "    <tr>\n",
       "      <th>4</th>\n",
       "      <td>10</td>\n",
       "      <td>-50000</td>\n",
       "    </tr>\n",
       "    <tr>\n",
       "      <th>...</th>\n",
       "      <td>...</td>\n",
       "      <td>...</td>\n",
       "    </tr>\n",
       "    <tr>\n",
       "      <th>1534</th>\n",
       "      <td>86</td>\n",
       "      <td>-50000</td>\n",
       "    </tr>\n",
       "    <tr>\n",
       "      <th>1671</th>\n",
       "      <td>88</td>\n",
       "      <td>-50000</td>\n",
       "    </tr>\n",
       "    <tr>\n",
       "      <th>2249</th>\n",
       "      <td>88</td>\n",
       "      <td>-50000</td>\n",
       "    </tr>\n",
       "    <tr>\n",
       "      <th>2402</th>\n",
       "      <td>87</td>\n",
       "      <td>-50000</td>\n",
       "    </tr>\n",
       "    <tr>\n",
       "      <th>2547</th>\n",
       "      <td>89</td>\n",
       "      <td>50000</td>\n",
       "    </tr>\n",
       "  </tbody>\n",
       "</table>\n",
       "<p>182 rows × 2 columns</p>\n",
       "</div>"
      ],
      "text/plain": [
       "      age  income_level\n",
       "0      73        -50000\n",
       "1      58        -50000\n",
       "2      18        -50000\n",
       "3       9        -50000\n",
       "4      10        -50000\n",
       "...   ...           ...\n",
       "1534   86        -50000\n",
       "1671   88        -50000\n",
       "2249   88        -50000\n",
       "2402   87        -50000\n",
       "2547   89         50000\n",
       "\n",
       "[182 rows x 2 columns]"
      ]
     },
     "execution_count": 270,
     "metadata": {},
     "output_type": "execute_result"
    }
   ],
   "source": [
    "grouped_test2 = df[['age', 'income_level']].groupby(['age'])\n",
    "grouped_test2.head(2)"
   ]
  },
  {
   "cell_type": "code",
   "execution_count": 184,
   "id": "98427e4f",
   "metadata": {},
   "outputs": [],
   "source": [
    "#sns.pairplot(data=df[['age','wage_per_hour']], hue='income_level', palette='RdBu')"
   ]
  },
  {
   "cell_type": "code",
   "execution_count": 271,
   "id": "23fa90e5",
   "metadata": {},
   "outputs": [],
   "source": [
    "bins = (0, 30, 60, 90)\n",
    "labels = ['young','adult','old']\n",
    "df['age'] = pd.cut(x = df['age'], bins = bins, labels = labels)"
   ]
  },
  {
   "cell_type": "code",
   "execution_count": 272,
   "id": "fe64bc90",
   "metadata": {},
   "outputs": [],
   "source": [
    "def funct(value1):\n",
    "    if value1 == 0:\n",
    "        val='Zero'\n",
    "    else:\n",
    "        val='More_than_zero'\n",
    "    return val"
   ]
  },
  {
   "cell_type": "code",
   "execution_count": 273,
   "id": "bc701a6d",
   "metadata": {},
   "outputs": [],
   "source": [
    "df['wage_per_hour']=df.apply(lambda x: funct(x['wage_per_hour']),axis=1)"
   ]
  },
  {
   "cell_type": "code",
   "execution_count": 274,
   "id": "48dd4cdf",
   "metadata": {},
   "outputs": [],
   "source": [
    "df['capital_gains']=df.apply(lambda x: funct(x['capital_gains']),axis=1)\n",
    "df['capital_losses']=df.apply(lambda x: funct(x['capital_losses']),axis=1)\n",
    "df['dividend_from_Stocks']=df.apply(lambda x: funct(x['dividend_from_Stocks']),axis=1)"
   ]
  },
  {
   "cell_type": "code",
   "execution_count": 196,
   "id": "8ebb8d92",
   "metadata": {},
   "outputs": [
    {
     "data": {
      "text/html": [
       "<div>\n",
       "<style scoped>\n",
       "    .dataframe tbody tr th:only-of-type {\n",
       "        vertical-align: middle;\n",
       "    }\n",
       "\n",
       "    .dataframe tbody tr th {\n",
       "        vertical-align: top;\n",
       "    }\n",
       "\n",
       "    .dataframe thead th {\n",
       "        text-align: right;\n",
       "    }\n",
       "</style>\n",
       "<table border=\"1\" class=\"dataframe\">\n",
       "  <thead>\n",
       "    <tr style=\"text-align: right;\">\n",
       "      <th></th>\n",
       "      <th>age</th>\n",
       "      <th>class_of_worker</th>\n",
       "      <th>industry_code</th>\n",
       "      <th>occupation_code</th>\n",
       "      <th>education</th>\n",
       "      <th>wage_per_hour</th>\n",
       "      <th>enrolled_in_edu_inst_lastwk</th>\n",
       "      <th>marital_status</th>\n",
       "      <th>major_industry_code</th>\n",
       "      <th>major_occupation_code</th>\n",
       "      <th>...</th>\n",
       "      <th>country_father</th>\n",
       "      <th>country_mother</th>\n",
       "      <th>country_self</th>\n",
       "      <th>citizenship</th>\n",
       "      <th>business_or_self_employed</th>\n",
       "      <th>fill_questionnaire_veteran_admin</th>\n",
       "      <th>veterans_benefits</th>\n",
       "      <th>weeks_worked_in_year</th>\n",
       "      <th>year</th>\n",
       "      <th>income_level</th>\n",
       "    </tr>\n",
       "  </thead>\n",
       "  <tbody>\n",
       "    <tr>\n",
       "      <th>0</th>\n",
       "      <td>old</td>\n",
       "      <td>Not in universe</td>\n",
       "      <td>0</td>\n",
       "      <td>0</td>\n",
       "      <td>High school graduate</td>\n",
       "      <td>Zero</td>\n",
       "      <td>Not in universe</td>\n",
       "      <td>Widowed</td>\n",
       "      <td>Not in universe or children</td>\n",
       "      <td>Not in universe</td>\n",
       "      <td>...</td>\n",
       "      <td>United-States</td>\n",
       "      <td>United-States</td>\n",
       "      <td>United-States</td>\n",
       "      <td>Native- Born in the United States</td>\n",
       "      <td>0</td>\n",
       "      <td>Not in universe</td>\n",
       "      <td>2</td>\n",
       "      <td>0</td>\n",
       "      <td>95</td>\n",
       "      <td>-50000</td>\n",
       "    </tr>\n",
       "    <tr>\n",
       "      <th>1</th>\n",
       "      <td>adult</td>\n",
       "      <td>Self-employed-not incorporated</td>\n",
       "      <td>4</td>\n",
       "      <td>34</td>\n",
       "      <td>Some college but no degree</td>\n",
       "      <td>Zero</td>\n",
       "      <td>Not in universe</td>\n",
       "      <td>Divorced</td>\n",
       "      <td>Construction</td>\n",
       "      <td>Precision production craft &amp; repair</td>\n",
       "      <td>...</td>\n",
       "      <td>United-States</td>\n",
       "      <td>United-States</td>\n",
       "      <td>United-States</td>\n",
       "      <td>Native- Born in the United States</td>\n",
       "      <td>0</td>\n",
       "      <td>Not in universe</td>\n",
       "      <td>2</td>\n",
       "      <td>52</td>\n",
       "      <td>94</td>\n",
       "      <td>-50000</td>\n",
       "    </tr>\n",
       "    <tr>\n",
       "      <th>2</th>\n",
       "      <td>young</td>\n",
       "      <td>Not in universe</td>\n",
       "      <td>0</td>\n",
       "      <td>0</td>\n",
       "      <td>10th grade</td>\n",
       "      <td>Zero</td>\n",
       "      <td>High school</td>\n",
       "      <td>Never married</td>\n",
       "      <td>Not in universe or children</td>\n",
       "      <td>Not in universe</td>\n",
       "      <td>...</td>\n",
       "      <td>Vietnam</td>\n",
       "      <td>Vietnam</td>\n",
       "      <td>Vietnam</td>\n",
       "      <td>Foreign born- Not a citizen of U S</td>\n",
       "      <td>0</td>\n",
       "      <td>Not in universe</td>\n",
       "      <td>2</td>\n",
       "      <td>0</td>\n",
       "      <td>95</td>\n",
       "      <td>-50000</td>\n",
       "    </tr>\n",
       "    <tr>\n",
       "      <th>3</th>\n",
       "      <td>young</td>\n",
       "      <td>Not in universe</td>\n",
       "      <td>0</td>\n",
       "      <td>0</td>\n",
       "      <td>Children</td>\n",
       "      <td>Zero</td>\n",
       "      <td>Not in universe</td>\n",
       "      <td>Never married</td>\n",
       "      <td>Not in universe or children</td>\n",
       "      <td>Not in universe</td>\n",
       "      <td>...</td>\n",
       "      <td>United-States</td>\n",
       "      <td>United-States</td>\n",
       "      <td>United-States</td>\n",
       "      <td>Native- Born in the United States</td>\n",
       "      <td>0</td>\n",
       "      <td>Not in universe</td>\n",
       "      <td>0</td>\n",
       "      <td>0</td>\n",
       "      <td>94</td>\n",
       "      <td>-50000</td>\n",
       "    </tr>\n",
       "    <tr>\n",
       "      <th>4</th>\n",
       "      <td>young</td>\n",
       "      <td>Not in universe</td>\n",
       "      <td>0</td>\n",
       "      <td>0</td>\n",
       "      <td>Children</td>\n",
       "      <td>Zero</td>\n",
       "      <td>Not in universe</td>\n",
       "      <td>Never married</td>\n",
       "      <td>Not in universe or children</td>\n",
       "      <td>Not in universe</td>\n",
       "      <td>...</td>\n",
       "      <td>United-States</td>\n",
       "      <td>United-States</td>\n",
       "      <td>United-States</td>\n",
       "      <td>Native- Born in the United States</td>\n",
       "      <td>0</td>\n",
       "      <td>Not in universe</td>\n",
       "      <td>0</td>\n",
       "      <td>0</td>\n",
       "      <td>94</td>\n",
       "      <td>-50000</td>\n",
       "    </tr>\n",
       "  </tbody>\n",
       "</table>\n",
       "<p>5 rows × 37 columns</p>\n",
       "</div>"
      ],
      "text/plain": [
       "     age                 class_of_worker  industry_code  occupation_code  \\\n",
       "0    old                 Not in universe              0                0   \n",
       "1  adult  Self-employed-not incorporated              4               34   \n",
       "2  young                 Not in universe              0                0   \n",
       "3  young                 Not in universe              0                0   \n",
       "4  young                 Not in universe              0                0   \n",
       "\n",
       "                    education wage_per_hour enrolled_in_edu_inst_lastwk  \\\n",
       "0        High school graduate          Zero             Not in universe   \n",
       "1  Some college but no degree          Zero             Not in universe   \n",
       "2                  10th grade          Zero                 High school   \n",
       "3                    Children          Zero             Not in universe   \n",
       "4                    Children          Zero             Not in universe   \n",
       "\n",
       "  marital_status          major_industry_code  \\\n",
       "0        Widowed  Not in universe or children   \n",
       "1       Divorced                 Construction   \n",
       "2  Never married  Not in universe or children   \n",
       "3  Never married  Not in universe or children   \n",
       "4  Never married  Not in universe or children   \n",
       "\n",
       "                 major_occupation_code  ... country_father country_mother  \\\n",
       "0                      Not in universe  ...  United-States  United-States   \n",
       "1  Precision production craft & repair  ...  United-States  United-States   \n",
       "2                      Not in universe  ...        Vietnam        Vietnam   \n",
       "3                      Not in universe  ...  United-States  United-States   \n",
       "4                      Not in universe  ...  United-States  United-States   \n",
       "\n",
       "    country_self                         citizenship  \\\n",
       "0  United-States   Native- Born in the United States   \n",
       "1  United-States   Native- Born in the United States   \n",
       "2        Vietnam  Foreign born- Not a citizen of U S   \n",
       "3  United-States   Native- Born in the United States   \n",
       "4  United-States   Native- Born in the United States   \n",
       "\n",
       "  business_or_self_employed fill_questionnaire_veteran_admin  \\\n",
       "0                         0                  Not in universe   \n",
       "1                         0                  Not in universe   \n",
       "2                         0                  Not in universe   \n",
       "3                         0                  Not in universe   \n",
       "4                         0                  Not in universe   \n",
       "\n",
       "  veterans_benefits weeks_worked_in_year year income_level  \n",
       "0                 2                    0   95       -50000  \n",
       "1                 2                   52   94       -50000  \n",
       "2                 2                    0   95       -50000  \n",
       "3                 0                    0   94       -50000  \n",
       "4                 0                    0   94       -50000  \n",
       "\n",
       "[5 rows x 37 columns]"
      ]
     },
     "execution_count": 196,
     "metadata": {},
     "output_type": "execute_result"
    }
   ],
   "source": [
    "df.head()"
   ]
  },
  {
   "cell_type": "code",
   "execution_count": 275,
   "id": "63938375",
   "metadata": {},
   "outputs": [],
   "source": [
    "from sklearn.preprocessing import LabelEncoder\n",
    "le=LabelEncoder()\n",
    "df['income_level']=le.fit_transform(df['income_level'])"
   ]
  },
  {
   "cell_type": "code",
   "execution_count": 276,
   "id": "ca79c535",
   "metadata": {},
   "outputs": [
    {
     "data": {
      "text/plain": [
       "0    140001\n",
       "1     12367\n",
       "Name: income_level, dtype: int64"
      ]
     },
     "execution_count": 276,
     "metadata": {},
     "output_type": "execute_result"
    }
   ],
   "source": [
    "df.income_level.value_counts()"
   ]
  },
  {
   "cell_type": "code",
   "execution_count": 277,
   "id": "392aa2bc",
   "metadata": {},
   "outputs": [],
   "source": [
    "from sklearn.ensemble import ExtraTreesClassifier"
   ]
  },
  {
   "cell_type": "code",
   "execution_count": 278,
   "id": "78f7e5a1",
   "metadata": {},
   "outputs": [],
   "source": [
    "x=df.iloc[:,:-1]\n",
    "y= df.iloc[:,-1]"
   ]
  },
  {
   "cell_type": "code",
   "execution_count": 279,
   "id": "c3896a83",
   "metadata": {},
   "outputs": [
    {
     "data": {
      "text/plain": [
       "(152368, 36)"
      ]
     },
     "execution_count": 279,
     "metadata": {},
     "output_type": "execute_result"
    }
   ],
   "source": [
    "x.shape"
   ]
  },
  {
   "cell_type": "code",
   "execution_count": 280,
   "id": "a8fb6445",
   "metadata": {},
   "outputs": [
    {
     "data": {
      "text/plain": [
       "(152368,)"
      ]
     },
     "execution_count": 280,
     "metadata": {},
     "output_type": "execute_result"
    }
   ],
   "source": [
    "y.shape"
   ]
  },
  {
   "cell_type": "code",
   "execution_count": 297,
   "id": "aafcd289",
   "metadata": {},
   "outputs": [],
   "source": [
    "cat_features=[i for i in df.columns if df.dtypes[i]=='object']"
   ]
  },
  {
   "cell_type": "code",
   "execution_count": 298,
   "id": "f89d7495",
   "metadata": {},
   "outputs": [],
   "source": [
    "num_features=[j for j in df.columns if df.dtypes[j]=='int64']"
   ]
  },
  {
   "cell_type": "code",
   "execution_count": 299,
   "id": "3712591d",
   "metadata": {},
   "outputs": [
    {
     "data": {
      "text/plain": [
       "['industry_code',\n",
       " 'occupation_code',\n",
       " 'num_person_Worked_employer',\n",
       " 'business_or_self_employed',\n",
       " 'veterans_benefits',\n",
       " 'weeks_worked_in_year',\n",
       " 'year',\n",
       " 'income_level']"
      ]
     },
     "execution_count": 299,
     "metadata": {},
     "output_type": "execute_result"
    }
   ],
   "source": [
    "num_features"
   ]
  },
  {
   "cell_type": "code",
   "execution_count": 300,
   "id": "c4a90998",
   "metadata": {
    "scrolled": true
   },
   "outputs": [
    {
     "data": {
      "text/plain": [
       "['class_of_worker',\n",
       " 'education',\n",
       " 'wage_per_hour',\n",
       " 'enrolled_in_edu_inst_lastwk',\n",
       " 'sex',\n",
       " 'reason_for_unemployment',\n",
       " 'capital_gains',\n",
       " 'capital_losses',\n",
       " 'dividend_from_Stocks',\n",
       " 'tax_filer_status',\n",
       " 'family_members_under_18',\n",
       " 'citizenship']"
      ]
     },
     "execution_count": 300,
     "metadata": {},
     "output_type": "execute_result"
    }
   ],
   "source": [
    "cat_features"
   ]
  },
  {
   "cell_type": "code",
   "execution_count": 216,
   "id": "cbaeeb93",
   "metadata": {},
   "outputs": [],
   "source": [
    "#df.info()"
   ]
  },
  {
   "cell_type": "code",
   "execution_count": 291,
   "id": "7df024ab",
   "metadata": {},
   "outputs": [],
   "source": [
    "df=df.drop(['country_father','country_mother','country_self','fill_questionnaire_veteran_admin'],axis=1)"
   ]
  },
  {
   "cell_type": "code",
   "execution_count": 286,
   "id": "ac915209",
   "metadata": {},
   "outputs": [
    {
     "data": {
      "text/plain": [
       "(152368, 33)"
      ]
     },
     "execution_count": 286,
     "metadata": {},
     "output_type": "execute_result"
    }
   ],
   "source": [
    "df.shape"
   ]
  },
  {
   "cell_type": "code",
   "execution_count": 287,
   "id": "47cea392",
   "metadata": {},
   "outputs": [],
   "source": [
    "df=df.drop(['marital_status','major_industry_code','major_occupation_code','race','hispanic_origin',\n",
    "           'member_of_labor_union','full_parttime_employment_stat','region_of_previous_residence',\n",
    "            'state_of_previous_residence','d_household_family_stat','d_household_summary','live_1_year_ago'],axis=1)"
   ]
  },
  {
   "cell_type": "code",
   "execution_count": 295,
   "id": "28f89d0b",
   "metadata": {},
   "outputs": [
    {
     "data": {
      "text/plain": [
       "(152368, 21)"
      ]
     },
     "execution_count": 295,
     "metadata": {},
     "output_type": "execute_result"
    }
   ],
   "source": [
    "df.shape"
   ]
  },
  {
   "cell_type": "code",
   "execution_count": 231,
   "id": "f3aae9e9",
   "metadata": {},
   "outputs": [
    {
     "data": {
      "text/plain": [
       "<AxesSubplot:>"
      ]
     },
     "execution_count": 231,
     "metadata": {},
     "output_type": "execute_result"
    },
    {
     "data": {
      "image/png": "[encoded data removed]",
      "text/plain": [
       "<Figure size 720x360 with 1 Axes>"
      ]
     },
     "metadata": {
      "needs_background": "light"
     },
     "output_type": "display_data"
    }
   ],
   "source": [
    "df['enrolled_in_edu_inst_lastwk'].value_counts().plot(kind='bar', figsize=(10,5))"
   ]
  },
  {
   "cell_type": "code",
   "execution_count": 245,
   "id": "79494414",
   "metadata": {},
   "outputs": [
    {
     "data": {
      "text/plain": [
       "<AxesSubplot:title={'center':'income_level'}, xlabel='enrolled_in_edu_inst_lastwk'>"
      ]
     },
     "execution_count": 245,
     "metadata": {},
     "output_type": "execute_result"
    },
    {
     "data": {
      "image/png": "[encoded data removed]",
      "text/plain": [
       "<Figure size 432x288 with 1 Axes>"
      ]
     },
     "metadata": {
      "needs_background": "light"
     },
     "output_type": "display_data"
    }
   ],
   "source": [
    "df.boxplot(column=['income_level'],by='enrolled_in_edu_inst_lastwk')\n",
    "#sns.pairplot(data=df[['enrolled_in_edu_inst_lastwk']],hue='income_level',palette='RdBu')"
   ]
  },
  {
   "cell_type": "code",
   "execution_count": 238,
   "id": "434e0ac4",
   "metadata": {},
   "outputs": [
    {
     "data": {
      "text/plain": [
       "<AxesSubplot:>"
      ]
     },
     "execution_count": 238,
     "metadata": {},
     "output_type": "execute_result"
    },
    {
     "data": {
      "image/png": "[encoded data removed]",
      "text/plain": [
       "<Figure size 720x360 with 1 Axes>"
      ]
     },
     "metadata": {
      "needs_background": "light"
     },
     "output_type": "display_data"
    }
   ],
   "source": [
    "df['reason_for_unemployment'].value_counts().plot(kind='bar', figsize=(10,5))"
   ]
  },
  {
   "cell_type": "code",
   "execution_count": 239,
   "id": "6f39cd8f",
   "metadata": {},
   "outputs": [
    {
     "data": {
      "text/plain": [
       "<AxesSubplot:>"
      ]
     },
     "execution_count": 239,
     "metadata": {},
     "output_type": "execute_result"
    },
    {
     "data": {
      "image/png": "[encoded data removed]",
      "text/plain": [
       "<Figure size 720x360 with 1 Axes>"
      ]
     },
     "metadata": {
      "needs_background": "light"
     },
     "output_type": "display_data"
    }
   ],
   "source": [
    "df['tax_filer_status'].value_counts().plot(kind='bar', figsize=(10,5))"
   ]
  },
  {
   "cell_type": "code",
   "execution_count": 246,
   "id": "2e773392",
   "metadata": {},
   "outputs": [
    {
     "data": {
      "text/plain": [
       "<AxesSubplot:>"
      ]
     },
     "execution_count": 246,
     "metadata": {},
     "output_type": "execute_result"
    },
    {
     "data": {
      "image/png": "[encoded data removed]",
      "text/plain": [
       "<Figure size 720x360 with 1 Axes>"
      ]
     },
     "metadata": {
      "needs_background": "light"
     },
     "output_type": "display_data"
    }
   ],
   "source": [
    "df['family_members_under_18'].value_counts().plot(kind='bar', figsize=(10,5))"
   ]
  },
  {
   "cell_type": "code",
   "execution_count": 247,
   "id": "ba72514f",
   "metadata": {},
   "outputs": [
    {
     "data": {
      "text/plain": [
       "<AxesSubplot:>"
      ]
     },
     "execution_count": 247,
     "metadata": {},
     "output_type": "execute_result"
    },
    {
     "data": {
      "image/png": "[encoded data removed]",
      "text/plain": [
       "<Figure size 720x360 with 1 Axes>"
      ]
     },
     "metadata": {
      "needs_background": "light"
     },
     "output_type": "display_data"
    }
   ],
   "source": [
    "df['citizenship'].value_counts().plot(kind='bar', figsize=(10,5))"
   ]
  },
  {
   "cell_type": "code",
   "execution_count": 301,
   "id": "30076490",
   "metadata": {},
   "outputs": [
    {
     "data": {
      "text/plain": [
       "['class_of_worker',\n",
       " 'education',\n",
       " 'wage_per_hour',\n",
       " 'enrolled_in_edu_inst_lastwk',\n",
       " 'sex',\n",
       " 'reason_for_unemployment',\n",
       " 'capital_gains',\n",
       " 'capital_losses',\n",
       " 'dividend_from_Stocks',\n",
       " 'tax_filer_status',\n",
       " 'family_members_under_18',\n",
       " 'citizenship']"
      ]
     },
     "execution_count": 301,
     "metadata": {},
     "output_type": "execute_result"
    }
   ],
   "source": [
    "cat_features"
   ]
  },
  {
   "cell_type": "code",
   "execution_count": 302,
   "id": "0608f354",
   "metadata": {},
   "outputs": [],
   "source": [
    "#df=ohe(df,'class_of_worker')\n",
    "df1=df"
   ]
  },
  {
   "cell_type": "code",
   "execution_count": 308,
   "id": "a6ebe615",
   "metadata": {},
   "outputs": [],
   "source": [
    "    atr=pd.get_dummies(df['class_of_worker'],drop_first=True)\n",
    "    # Drop the state coulmn\n",
    "    df=df.drop('class_of_worker',axis=1)\n",
    "    # concat the dummy variables\n",
    "    df=pd.concat([df,atr],axis=1)"
   ]
  },
  {
   "cell_type": "code",
   "execution_count": 307,
   "id": "df6a4e04",
   "metadata": {},
   "outputs": [
    {
     "data": {
      "text/plain": [
       "(152368, 28)"
      ]
     },
     "execution_count": 307,
     "metadata": {},
     "output_type": "execute_result"
    }
   ],
   "source": [
    "#df1.info()\n",
    "df1.shape"
   ]
  },
  {
   "cell_type": "code",
   "execution_count": 309,
   "id": "cdc868b8",
   "metadata": {},
   "outputs": [
    {
     "data": {
      "text/plain": [
       "(152368, 28)"
      ]
     },
     "execution_count": 309,
     "metadata": {},
     "output_type": "execute_result"
    }
   ],
   "source": [
    "df.shape"
   ]
  },
  {
   "cell_type": "code",
   "execution_count": 310,
   "id": "14ee7bf6",
   "metadata": {},
   "outputs": [],
   "source": [
    "df=df.drop(['citizenship'],axis=1)"
   ]
  },
  {
   "cell_type": "code",
   "execution_count": 318,
   "id": "fbd17de7",
   "metadata": {
    "scrolled": true
   },
   "outputs": [
    {
     "ename": "KeyError",
     "evalue": "'education'",
     "output_type": "error",
     "traceback": [
      "\u001b[1;31m---------------------------------------------------------------------------\u001b[0m",
      "\u001b[1;31mKeyError\u001b[0m                                  Traceback (most recent call last)",
      "\u001b[1;32mc:\\users\\hp\\appdata\\local\\programs\\python\\python39\\lib\\site-packages\\pandas\\core\\indexes\\base.py\u001b[0m in \u001b[0;36mget_loc\u001b[1;34m(self, key, method, tolerance)\u001b[0m\n\u001b[0;32m   3079\u001b[0m             \u001b[1;32mtry\u001b[0m\u001b[1;33m:\u001b[0m\u001b[1;33m\u001b[0m\u001b[1;33m\u001b[0m\u001b[0m\n\u001b[1;32m-> 3080\u001b[1;33m                 \u001b[1;32mreturn\u001b[0m \u001b[0mself\u001b[0m\u001b[1;33m.\u001b[0m\u001b[0m_engine\u001b[0m\u001b[1;33m.\u001b[0m\u001b[0mget_loc\u001b[0m\u001b[1;33m(\u001b[0m\u001b[0mcasted_key\u001b[0m\u001b[1;33m)\u001b[0m\u001b[1;33m\u001b[0m\u001b[1;33m\u001b[0m\u001b[0m\n\u001b[0m\u001b[0;32m   3081\u001b[0m             \u001b[1;32mexcept\u001b[0m \u001b[0mKeyError\u001b[0m \u001b[1;32mas\u001b[0m \u001b[0merr\u001b[0m\u001b[1;33m:\u001b[0m\u001b[1;33m\u001b[0m\u001b[1;33m\u001b[0m\u001b[0m\n",
      "\u001b[1;32mpandas\\_libs\\index.pyx\u001b[0m in \u001b[0;36mpandas._libs.index.IndexEngine.get_loc\u001b[1;34m()\u001b[0m\n",
      "\u001b[1;32mpandas\\_libs\\index.pyx\u001b[0m in \u001b[0;36mpandas._libs.index.IndexEngine.get_loc\u001b[1;34m()\u001b[0m\n",
      "\u001b[1;32mpandas\\_libs\\index.pyx\u001b[0m in \u001b[0;36mpandas._libs.index.IndexEngine._get_loc_duplicates\u001b[1;34m()\u001b[0m\n",
      "\u001b[1;32mpandas\\_libs\\index.pyx\u001b[0m in \u001b[0;36mpandas._libs.index.IndexEngine._maybe_get_bool_indexer\u001b[1;34m()\u001b[0m\n",
      "\u001b[1;32mpandas\\_libs\\index.pyx\u001b[0m in \u001b[0;36mpandas._libs.index.IndexEngine._unpack_bool_indexer\u001b[1;34m()\u001b[0m\n",
      "\u001b[1;31mKeyError\u001b[0m: 'education'",
      "\nThe above exception was the direct cause of the following exception:\n",
      "\u001b[1;31mKeyError\u001b[0m                                  Traceback (most recent call last)",
      "\u001b[1;32m<ipython-input-318-4dbac43708a2>\u001b[0m in \u001b[0;36m<module>\u001b[1;34m\u001b[0m\n\u001b[1;32m----> 1\u001b[1;33m \u001b[0matr\u001b[0m\u001b[1;33m=\u001b[0m\u001b[0mpd\u001b[0m\u001b[1;33m.\u001b[0m\u001b[0mget_dummies\u001b[0m\u001b[1;33m(\u001b[0m\u001b[0mdf\u001b[0m\u001b[1;33m[\u001b[0m\u001b[1;34m'education'\u001b[0m\u001b[1;33m]\u001b[0m\u001b[1;33m,\u001b[0m\u001b[0mdrop_first\u001b[0m\u001b[1;33m=\u001b[0m\u001b[1;32mTrue\u001b[0m\u001b[1;33m)\u001b[0m\u001b[1;33m\u001b[0m\u001b[1;33m\u001b[0m\u001b[0m\n\u001b[0m\u001b[0;32m      2\u001b[0m \u001b[1;31m# Drop the state coulmn\u001b[0m\u001b[1;33m\u001b[0m\u001b[1;33m\u001b[0m\u001b[1;33m\u001b[0m\u001b[0m\n\u001b[0;32m      3\u001b[0m \u001b[0mdf\u001b[0m\u001b[1;33m=\u001b[0m\u001b[0mdf\u001b[0m\u001b[1;33m.\u001b[0m\u001b[0mdrop\u001b[0m\u001b[1;33m(\u001b[0m\u001b[1;34m'education'\u001b[0m\u001b[1;33m,\u001b[0m\u001b[0maxis\u001b[0m\u001b[1;33m=\u001b[0m\u001b[1;36m1\u001b[0m\u001b[1;33m)\u001b[0m\u001b[1;33m\u001b[0m\u001b[1;33m\u001b[0m\u001b[0m\n\u001b[0;32m      4\u001b[0m \u001b[1;31m# concat the dummy variables\u001b[0m\u001b[1;33m\u001b[0m\u001b[1;33m\u001b[0m\u001b[1;33m\u001b[0m\u001b[0m\n\u001b[0;32m      5\u001b[0m \u001b[0mdf\u001b[0m\u001b[1;33m=\u001b[0m\u001b[0mpd\u001b[0m\u001b[1;33m.\u001b[0m\u001b[0mconcat\u001b[0m\u001b[1;33m(\u001b[0m\u001b[1;33m[\u001b[0m\u001b[0mdf\u001b[0m\u001b[1;33m,\u001b[0m\u001b[0matr\u001b[0m\u001b[1;33m]\u001b[0m\u001b[1;33m,\u001b[0m\u001b[0maxis\u001b[0m\u001b[1;33m=\u001b[0m\u001b[1;36m1\u001b[0m\u001b[1;33m)\u001b[0m\u001b[1;33m\u001b[0m\u001b[1;33m\u001b[0m\u001b[0m\n",
      "\u001b[1;32mc:\\users\\hp\\appdata\\local\\programs\\python\\python39\\lib\\site-packages\\pandas\\core\\frame.py\u001b[0m in \u001b[0;36m__getitem__\u001b[1;34m(self, key)\u001b[0m\n\u001b[0;32m   3022\u001b[0m             \u001b[1;32mif\u001b[0m \u001b[0mself\u001b[0m\u001b[1;33m.\u001b[0m\u001b[0mcolumns\u001b[0m\u001b[1;33m.\u001b[0m\u001b[0mnlevels\u001b[0m \u001b[1;33m>\u001b[0m \u001b[1;36m1\u001b[0m\u001b[1;33m:\u001b[0m\u001b[1;33m\u001b[0m\u001b[1;33m\u001b[0m\u001b[0m\n\u001b[0;32m   3023\u001b[0m                 \u001b[1;32mreturn\u001b[0m \u001b[0mself\u001b[0m\u001b[1;33m.\u001b[0m\u001b[0m_getitem_multilevel\u001b[0m\u001b[1;33m(\u001b[0m\u001b[0mkey\u001b[0m\u001b[1;33m)\u001b[0m\u001b[1;33m\u001b[0m\u001b[1;33m\u001b[0m\u001b[0m\n\u001b[1;32m-> 3024\u001b[1;33m             \u001b[0mindexer\u001b[0m \u001b[1;33m=\u001b[0m \u001b[0mself\u001b[0m\u001b[1;33m.\u001b[0m\u001b[0mcolumns\u001b[0m\u001b[1;33m.\u001b[0m\u001b[0mget_loc\u001b[0m\u001b[1;33m(\u001b[0m\u001b[0mkey\u001b[0m\u001b[1;33m)\u001b[0m\u001b[1;33m\u001b[0m\u001b[1;33m\u001b[0m\u001b[0m\n\u001b[0m\u001b[0;32m   3025\u001b[0m             \u001b[1;32mif\u001b[0m \u001b[0mis_integer\u001b[0m\u001b[1;33m(\u001b[0m\u001b[0mindexer\u001b[0m\u001b[1;33m)\u001b[0m\u001b[1;33m:\u001b[0m\u001b[1;33m\u001b[0m\u001b[1;33m\u001b[0m\u001b[0m\n\u001b[0;32m   3026\u001b[0m                 \u001b[0mindexer\u001b[0m \u001b[1;33m=\u001b[0m \u001b[1;33m[\u001b[0m\u001b[0mindexer\u001b[0m\u001b[1;33m]\u001b[0m\u001b[1;33m\u001b[0m\u001b[1;33m\u001b[0m\u001b[0m\n",
      "\u001b[1;32mc:\\users\\hp\\appdata\\local\\programs\\python\\python39\\lib\\site-packages\\pandas\\core\\indexes\\base.py\u001b[0m in \u001b[0;36mget_loc\u001b[1;34m(self, key, method, tolerance)\u001b[0m\n\u001b[0;32m   3080\u001b[0m                 \u001b[1;32mreturn\u001b[0m \u001b[0mself\u001b[0m\u001b[1;33m.\u001b[0m\u001b[0m_engine\u001b[0m\u001b[1;33m.\u001b[0m\u001b[0mget_loc\u001b[0m\u001b[1;33m(\u001b[0m\u001b[0mcasted_key\u001b[0m\u001b[1;33m)\u001b[0m\u001b[1;33m\u001b[0m\u001b[1;33m\u001b[0m\u001b[0m\n\u001b[0;32m   3081\u001b[0m             \u001b[1;32mexcept\u001b[0m \u001b[0mKeyError\u001b[0m \u001b[1;32mas\u001b[0m \u001b[0merr\u001b[0m\u001b[1;33m:\u001b[0m\u001b[1;33m\u001b[0m\u001b[1;33m\u001b[0m\u001b[0m\n\u001b[1;32m-> 3082\u001b[1;33m                 \u001b[1;32mraise\u001b[0m \u001b[0mKeyError\u001b[0m\u001b[1;33m(\u001b[0m\u001b[0mkey\u001b[0m\u001b[1;33m)\u001b[0m \u001b[1;32mfrom\u001b[0m \u001b[0merr\u001b[0m\u001b[1;33m\u001b[0m\u001b[1;33m\u001b[0m\u001b[0m\n\u001b[0m\u001b[0;32m   3083\u001b[0m \u001b[1;33m\u001b[0m\u001b[0m\n\u001b[0;32m   3084\u001b[0m         \u001b[1;32mif\u001b[0m \u001b[0mtolerance\u001b[0m \u001b[1;32mis\u001b[0m \u001b[1;32mnot\u001b[0m \u001b[1;32mNone\u001b[0m\u001b[1;33m:\u001b[0m\u001b[1;33m\u001b[0m\u001b[1;33m\u001b[0m\u001b[0m\n",
      "\u001b[1;31mKeyError\u001b[0m: 'education'"
     ]
    }
   ],
   "source": [
    "    atr=pd.get_dummies(df['education'],drop_first=True)\n",
    "    # Drop the state coulmn\n",
    "    df=df.drop('education',axis=1)\n",
    "    # concat the dummy variables\n",
    "    df=pd.concat([df,atr],axis=1)\n",
    "    \n",
    "    atr=pd.get_dummies(df['wage_per_hour'],drop_first=True)\n",
    "    # Drop the state coulmn\n",
    "    df=df.drop('wage_per_hour',axis=1)\n",
    "    # concat the dummy variables\n",
    "    df=pd.concat([df,atr],axis=1)\n",
    "    \n",
    "atr=pd.get_dummies(df['enrolled_in_edu_inst_lastwk'],drop_first=True)\n",
    "    # Drop the state coulmn\n",
    "    df=df.drop('enrolled_in_edu_inst_lastwk',axis=1)\n",
    "    # concat the dummy variables\n",
    "    df=pd.concat([df,atr],axis=1)\n",
    "    \n",
    "#atr=pd.get_dummies(df['capital_gains'],drop_first=True)\n",
    "    # Drop the state coulmn\n",
    " #   df=df.drop('capital_gains',axis=1)\n",
    "    # concat the dummy variables\n",
    " #   df=pd.concat([df,atr],axis=1)\n",
    "    \n",
    "atr=pd.get_dummies(df['capital_losses'],drop_first=True)\n",
    "    # Drop the state coulmn\n",
    "    df=df.drop('capital_losses',axis=1)\n",
    "    # concat the dummy variables\n",
    "    df=pd.concat([df,atr],axis=1)\n",
    "    \n",
    "atr=pd.get_dummies(df['capital_gains'],drop_first=True)\n",
    "    # Drop the state coulmn\n",
    "    df=df.drop('capital_gains',axis=1)\n",
    "    # concat the dummy variables\n",
    "    df=pd.concat([df,atr],axis=1)\n",
    "    \n",
    "atr=pd.get_dummies(df['dividend_from_Stocks'],drop_first=True)\n",
    "    # Drop the state coulmn\n",
    "    df=df.drop('dividend_from_Stocks',axis=1)\n",
    "    # concat the dummy variables\n",
    "    df=pd.concat([df,atr],axis=1)\n",
    "        \n",
    "atr=pd.get_dummies(df['tax_filer_status'],drop_first=True)\n",
    "    # Drop the state coulmn\n",
    "    df=df.drop('tax_filer_status',axis=1)\n",
    "    # concat the dummy variables\n",
    "    df=pd.concat([df,atr],axis=1)\n",
    "        \n",
    "atr=pd.get_dummies(df['family_members_under_18'],drop_first=True)\n",
    "    # Drop the state coulmn\n",
    "    df=df.drop('family_members_under_18',axis=1)\n",
    "    # concat the dummy variables\n",
    "    df=pd.concat([df,atr],axis=1)"
   ]
  },
  {
   "cell_type": "code",
   "execution_count": 319,
   "id": "6bdd0544",
   "metadata": {},
   "outputs": [
    {
     "data": {
      "text/plain": [
       "(152368, 43)"
      ]
     },
     "execution_count": 319,
     "metadata": {},
     "output_type": "execute_result"
    }
   ],
   "source": [
    "df.shape"
   ]
  },
  {
   "cell_type": "code",
   "execution_count": 320,
   "id": "024785ee",
   "metadata": {},
   "outputs": [
    {
     "data": {
      "text/html": [
       "<div>\n",
       "<style scoped>\n",
       "    .dataframe tbody tr th:only-of-type {\n",
       "        vertical-align: middle;\n",
       "    }\n",
       "\n",
       "    .dataframe tbody tr th {\n",
       "        vertical-align: top;\n",
       "    }\n",
       "\n",
       "    .dataframe thead th {\n",
       "        text-align: right;\n",
       "    }\n",
       "</style>\n",
       "<table border=\"1\" class=\"dataframe\">\n",
       "  <thead>\n",
       "    <tr style=\"text-align: right;\">\n",
       "      <th></th>\n",
       "      <th>age</th>\n",
       "      <th>industry_code</th>\n",
       "      <th>occupation_code</th>\n",
       "      <th>sex</th>\n",
       "      <th>reason_for_unemployment</th>\n",
       "      <th>dividend_from_Stocks</th>\n",
       "      <th>tax_filer_status</th>\n",
       "      <th>num_person_Worked_employer</th>\n",
       "      <th>family_members_under_18</th>\n",
       "      <th>business_or_self_employed</th>\n",
       "      <th>...</th>\n",
       "      <th>High school graduate</th>\n",
       "      <th>Less than 1st grade</th>\n",
       "      <th>Masters degree(MA MS MEng MEd MSW MBA)</th>\n",
       "      <th>Prof school degree (MD DDS DVM LLB JD)</th>\n",
       "      <th>Some college but no degree</th>\n",
       "      <th>Zero</th>\n",
       "      <th>High school</th>\n",
       "      <th>Not in universe</th>\n",
       "      <th>Zero</th>\n",
       "      <th>Zero</th>\n",
       "    </tr>\n",
       "  </thead>\n",
       "  <tbody>\n",
       "    <tr>\n",
       "      <th>0</th>\n",
       "      <td>old</td>\n",
       "      <td>0</td>\n",
       "      <td>0</td>\n",
       "      <td>Female</td>\n",
       "      <td>Not in universe</td>\n",
       "      <td>Zero</td>\n",
       "      <td>Nonfiler</td>\n",
       "      <td>0</td>\n",
       "      <td>Not in universe</td>\n",
       "      <td>0</td>\n",
       "      <td>...</td>\n",
       "      <td>1</td>\n",
       "      <td>0</td>\n",
       "      <td>0</td>\n",
       "      <td>0</td>\n",
       "      <td>0</td>\n",
       "      <td>1</td>\n",
       "      <td>0</td>\n",
       "      <td>1</td>\n",
       "      <td>1</td>\n",
       "      <td>1</td>\n",
       "    </tr>\n",
       "    <tr>\n",
       "      <th>1</th>\n",
       "      <td>adult</td>\n",
       "      <td>4</td>\n",
       "      <td>34</td>\n",
       "      <td>Male</td>\n",
       "      <td>Not in universe</td>\n",
       "      <td>Zero</td>\n",
       "      <td>Head of household</td>\n",
       "      <td>1</td>\n",
       "      <td>Not in universe</td>\n",
       "      <td>0</td>\n",
       "      <td>...</td>\n",
       "      <td>0</td>\n",
       "      <td>0</td>\n",
       "      <td>0</td>\n",
       "      <td>0</td>\n",
       "      <td>1</td>\n",
       "      <td>1</td>\n",
       "      <td>0</td>\n",
       "      <td>1</td>\n",
       "      <td>1</td>\n",
       "      <td>1</td>\n",
       "    </tr>\n",
       "    <tr>\n",
       "      <th>2</th>\n",
       "      <td>young</td>\n",
       "      <td>0</td>\n",
       "      <td>0</td>\n",
       "      <td>Female</td>\n",
       "      <td>Not in universe</td>\n",
       "      <td>Zero</td>\n",
       "      <td>Nonfiler</td>\n",
       "      <td>0</td>\n",
       "      <td>Not in universe</td>\n",
       "      <td>0</td>\n",
       "      <td>...</td>\n",
       "      <td>0</td>\n",
       "      <td>0</td>\n",
       "      <td>0</td>\n",
       "      <td>0</td>\n",
       "      <td>0</td>\n",
       "      <td>1</td>\n",
       "      <td>1</td>\n",
       "      <td>0</td>\n",
       "      <td>1</td>\n",
       "      <td>1</td>\n",
       "    </tr>\n",
       "    <tr>\n",
       "      <th>3</th>\n",
       "      <td>young</td>\n",
       "      <td>0</td>\n",
       "      <td>0</td>\n",
       "      <td>Female</td>\n",
       "      <td>Not in universe</td>\n",
       "      <td>Zero</td>\n",
       "      <td>Nonfiler</td>\n",
       "      <td>0</td>\n",
       "      <td>Both parents present</td>\n",
       "      <td>0</td>\n",
       "      <td>...</td>\n",
       "      <td>0</td>\n",
       "      <td>0</td>\n",
       "      <td>0</td>\n",
       "      <td>0</td>\n",
       "      <td>0</td>\n",
       "      <td>1</td>\n",
       "      <td>0</td>\n",
       "      <td>1</td>\n",
       "      <td>1</td>\n",
       "      <td>1</td>\n",
       "    </tr>\n",
       "    <tr>\n",
       "      <th>4</th>\n",
       "      <td>young</td>\n",
       "      <td>0</td>\n",
       "      <td>0</td>\n",
       "      <td>Female</td>\n",
       "      <td>Not in universe</td>\n",
       "      <td>Zero</td>\n",
       "      <td>Nonfiler</td>\n",
       "      <td>0</td>\n",
       "      <td>Both parents present</td>\n",
       "      <td>0</td>\n",
       "      <td>...</td>\n",
       "      <td>0</td>\n",
       "      <td>0</td>\n",
       "      <td>0</td>\n",
       "      <td>0</td>\n",
       "      <td>0</td>\n",
       "      <td>1</td>\n",
       "      <td>0</td>\n",
       "      <td>1</td>\n",
       "      <td>1</td>\n",
       "      <td>1</td>\n",
       "    </tr>\n",
       "  </tbody>\n",
       "</table>\n",
       "<p>5 rows × 43 columns</p>\n",
       "</div>"
      ],
      "text/plain": [
       "     age  industry_code  occupation_code     sex reason_for_unemployment  \\\n",
       "0    old              0                0  Female         Not in universe   \n",
       "1  adult              4               34    Male         Not in universe   \n",
       "2  young              0                0  Female         Not in universe   \n",
       "3  young              0                0  Female         Not in universe   \n",
       "4  young              0                0  Female         Not in universe   \n",
       "\n",
       "  dividend_from_Stocks   tax_filer_status  num_person_Worked_employer  \\\n",
       "0                 Zero           Nonfiler                           0   \n",
       "1                 Zero  Head of household                           1   \n",
       "2                 Zero           Nonfiler                           0   \n",
       "3                 Zero           Nonfiler                           0   \n",
       "4                 Zero           Nonfiler                           0   \n",
       "\n",
       "  family_members_under_18  business_or_self_employed  ...  \\\n",
       "0         Not in universe                          0  ...   \n",
       "1         Not in universe                          0  ...   \n",
       "2         Not in universe                          0  ...   \n",
       "3    Both parents present                          0  ...   \n",
       "4    Both parents present                          0  ...   \n",
       "\n",
       "   High school graduate  Less than 1st grade  \\\n",
       "0                     1                    0   \n",
       "1                     0                    0   \n",
       "2                     0                    0   \n",
       "3                     0                    0   \n",
       "4                     0                    0   \n",
       "\n",
       "   Masters degree(MA MS MEng MEd MSW MBA)  \\\n",
       "0                                       0   \n",
       "1                                       0   \n",
       "2                                       0   \n",
       "3                                       0   \n",
       "4                                       0   \n",
       "\n",
       "   Prof school degree (MD DDS DVM LLB JD)  Some college but no degree  Zero  \\\n",
       "0                                       0                           0     1   \n",
       "1                                       0                           1     1   \n",
       "2                                       0                           0     1   \n",
       "3                                       0                           0     1   \n",
       "4                                       0                           0     1   \n",
       "\n",
       "   High school  Not in universe  Zero  Zero  \n",
       "0            0                1     1     1  \n",
       "1            0                1     1     1  \n",
       "2            1                0     1     1  \n",
       "3            0                1     1     1  \n",
       "4            0                1     1     1  \n",
       "\n",
       "[5 rows x 43 columns]"
      ]
     },
     "execution_count": 320,
     "metadata": {},
     "output_type": "execute_result"
    }
   ],
   "source": [
    "df.head()"
   ]
  },
  {
   "cell_type": "code",
   "execution_count": 321,
   "id": "83532de7",
   "metadata": {},
   "outputs": [
    {
     "name": "stdout",
     "output_type": "stream",
     "text": [
      "<class 'pandas.core.frame.DataFrame'>\n",
      "Int64Index: 152368 entries, 0 to 199522\n",
      "Data columns (total 43 columns):\n",
      " #   Column                                  Non-Null Count   Dtype   \n",
      "---  ------                                  --------------   -----   \n",
      " 0   age                                     151707 non-null  category\n",
      " 1   industry_code                           152368 non-null  int64   \n",
      " 2   occupation_code                         152368 non-null  int64   \n",
      " 3   sex                                     152368 non-null  object  \n",
      " 4   reason_for_unemployment                 152368 non-null  object  \n",
      " 5   dividend_from_Stocks                    152368 non-null  object  \n",
      " 6   tax_filer_status                        152368 non-null  object  \n",
      " 7   num_person_Worked_employer              152368 non-null  int64   \n",
      " 8   family_members_under_18                 152368 non-null  object  \n",
      " 9   business_or_self_employed               152368 non-null  int64   \n",
      " 10  veterans_benefits                       152368 non-null  int64   \n",
      " 11  weeks_worked_in_year                    152368 non-null  int64   \n",
      " 12  year                                    152368 non-null  int64   \n",
      " 13  income_level                            152368 non-null  int64   \n",
      " 14  Local government                        152368 non-null  uint8   \n",
      " 15  Never worked                            152368 non-null  uint8   \n",
      " 16  Not in universe                         152368 non-null  uint8   \n",
      " 17  Private                                 152368 non-null  uint8   \n",
      " 18  Self-employed-incorporated              152368 non-null  uint8   \n",
      " 19  Self-employed-not incorporated          152368 non-null  uint8   \n",
      " 20  State government                        152368 non-null  uint8   \n",
      " 21  Without pay                             152368 non-null  uint8   \n",
      " 22  11th grade                              152368 non-null  uint8   \n",
      " 23  12th grade no diploma                   152368 non-null  uint8   \n",
      " 24  1st 2nd 3rd or 4th grade                152368 non-null  uint8   \n",
      " 25  5th or 6th grade                        152368 non-null  uint8   \n",
      " 26  7th and 8th grade                       152368 non-null  uint8   \n",
      " 27  9th grade                               152368 non-null  uint8   \n",
      " 28  Associates degree-academic program      152368 non-null  uint8   \n",
      " 29  Associates degree-occup /vocational     152368 non-null  uint8   \n",
      " 30  Bachelors degree(BA AB BS)              152368 non-null  uint8   \n",
      " 31  Children                                152368 non-null  uint8   \n",
      " 32  Doctorate degree(PhD EdD)               152368 non-null  uint8   \n",
      " 33  High school graduate                    152368 non-null  uint8   \n",
      " 34  Less than 1st grade                     152368 non-null  uint8   \n",
      " 35  Masters degree(MA MS MEng MEd MSW MBA)  152368 non-null  uint8   \n",
      " 36  Prof school degree (MD DDS DVM LLB JD)  152368 non-null  uint8   \n",
      " 37  Some college but no degree              152368 non-null  uint8   \n",
      " 38  Zero                                    152368 non-null  uint8   \n",
      " 39  High school                             152368 non-null  uint8   \n",
      " 40  Not in universe                         152368 non-null  uint8   \n",
      " 41  Zero                                    152368 non-null  uint8   \n",
      " 42  Zero                                    152368 non-null  uint8   \n",
      "dtypes: category(1), int64(8), object(5), uint8(29)\n",
      "memory usage: 20.6+ MB\n"
     ]
    }
   ],
   "source": [
    "df.info()"
   ]
  },
  {
   "cell_type": "code",
   "execution_count": null,
   "id": "56c165c0",
   "metadata": {},
   "outputs": [],
   "source": []
  }
 ],
 "metadata": {
  "kernelspec": {
   "display_name": "Python 3",
   "language": "python",
   "name": "python3"
  },
  "language_info": {
   "codemirror_mode": {
    "name": "ipython",
    "version": 3
   },
   "file_extension": ".py",
   "mimetype": "text/x-python",
   "name": "python",
   "nbconvert_exporter": "python",
   "pygments_lexer": "ipython3",
   "version": "3.9.5"
  }
 },
 "nbformat": 4,
 "nbformat_minor": 5
}
